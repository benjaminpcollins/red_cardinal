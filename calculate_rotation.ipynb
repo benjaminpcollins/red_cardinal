{
 "cells": [
  {
   "cell_type": "markdown",
   "metadata": {},
   "source": [
    "# Notebook to calculate the rotation of the MIRI images with respect to NIRCam\n",
    "Let's start with the imports"
   ]
  },
  {
   "cell_type": "code",
   "execution_count": null,
   "metadata": {},
   "outputs": [],
   "source": [
    "from astropy.io import fits\n",
    "from astropy.wcs import WCS\n",
    "import math\n",
    "import numpy as np\n",
    "import matplotlib.pyplot as plt\n",
    "import os\n",
    "import glob\n",
    "from scipy.ndimage import rotate\n",
    "from reproject import reproject_interp\n"
   ]
  },
  {
   "cell_type": "markdown",
   "metadata": {},
   "source": [
    "Define functions:"
   ]
  },
  {
   "cell_type": "code",
   "execution_count": null,
   "metadata": {},
   "outputs": [],
   "source": [
    "\n",
    "def rotate_image(image, angle):\n",
    "    \"\"\"Rotate the image by the given angle\"\"\"\n",
    "    return rotate(image, angle, reshape=False, order=1, mode='nearest')  # Rotate by negative angle\n",
    "\n",
    "def process_fits(fits_file, output_folder):\n",
    "    \"\"\"Process the MIRI FITS file to rotate and save a new aligned FITS file.\"\"\"\n",
    "    \n",
    "    output_filename = os.path.join(output_folder, 'rotated_'+os.path.basename(fits_file))\n",
    "    \n",
    "    with fits.open(fits_file) as hdul:\n",
    "        image_data = hdul[1].data\n",
    "        header = hdul[1].header\n",
    "        wcs = WCS(header)\n",
    "\n",
    "        # Get original reference pixel (before rotation)\n",
    "        crpix_original = np.array([header['CRPIX1'], header['CRPIX2']])\n",
    "        \n",
    "        print(\"CRPIX1:\", header['CRPIX1'], \"CRPIX2:\", header['CRPIX2'])\n",
    "        print(\"Image shape:\", image_data.shape)\n",
    "\n",
    "        print(crpix_original)\n",
    "        # Get world coordinates of the original reference pixel\n",
    "        crval_original = wcs.pixel_to_world(crpix_original[0], crpix_original[1])\n",
    "\n",
    "        # Extract rotation angle from PC matrix\n",
    "        if 'PC1_1' in header and 'PC2_2' in header:\n",
    "            pc11 = header['PC1_1'] \n",
    "            pc12 = header['PC1_2'] \n",
    "            pc21 = header['PC2_1'] \n",
    "            pc22 = header['PC2_2'] \n",
    "            pc_matrix = np.array([[pc11, pc12], \n",
    "                                    [pc21, pc22]])\n",
    "            angle = 180 - np.arccos(pc11) * 180 / np.pi\n",
    "            print(f\"Rotating by {angle:.2f} degrees...\")        \n",
    "        else:\n",
    "            print(\"No PC matrix found, assuming no rotation\")\n",
    "            angle = 0\n",
    "\n",
    "        # Update the WCS: Rotate PC matrix by -angle (counterclockwise to match sky)\n",
    "        theta = np.radians(-angle)  # Convert to radians (negative for counterclockwise)\n",
    "        cos_t, sin_t = np.cos(theta), np.sin(theta)\n",
    "\n",
    "        #pc11_new = pc11*cos_t - pc21*sin_t\n",
    "        #pc12_new = pc12*cos_t - pc22*sin_t\n",
    "        #pc21_new = pc11*sin_t + pc21*cos_t\n",
    "        #pc22_new = pc12*sin_t + pc22*cos_t\n",
    "\n",
    "        #header['PC1_1'], header['PC1_2'] = pc11_new, pc12_new\n",
    "        #header['PC2_1'], header['PC2_2'] = pc21_new, pc22_new\n",
    "        \n",
    "\n",
    "        # Apply rotation to PC matrix\n",
    "        rotation_matrix = np.array([[cos_t, -sin_t], [sin_t, cos_t]])\n",
    "        new_pc_matrix = np.dot(rotation_matrix, pc_matrix)\n",
    "        \n",
    "        header['PC1_1'], header['PC1_2'] = new_pc_matrix[0]\n",
    "        header['PC2_1'], header['PC2_2'] = new_pc_matrix[1]\n",
    "        \n",
    "        # Create new WCS with updated PC matrix\n",
    "        new_wcs = WCS(header)\n",
    "\n",
    "        # Convert original world coordinates back to pixel in the new WCS\n",
    "        new_crpix = new_wcs.world_to_pixel(crval_original)\n",
    "\n",
    "        # Update reference pixel to keep sky alignment fixed\n",
    "        header['CRPIX1'], header['CRPIX2'] = new_crpix\n",
    "\n",
    "        # Rotate image\n",
    "        rotated_image = rotate_image(image_data, angle)\n",
    "\n",
    "    # Ensure output directory exists\n",
    "    os.makedirs(output_folder, exist_ok=True)\n",
    "\n",
    "    # Create new FITS file with rotated image\n",
    "    hdu = fits.PrimaryHDU(rotated_image, header=header)\n",
    "    hdul_rotated = fits.HDUList([hdu])\n",
    "    hdul_rotated.writeto(output_filename, overwrite=True)\n",
    "    \n",
    "    print(f\"Rotated image saved as: {output_filename}\")\n",
    "\n",
    "    # Plot original and rotated images\n",
    "    fig, axs = plt.subplots(1, 2, figsize=(12, 6))\n",
    "    axs[0].imshow(image_data, cmap='gray', origin='lower')\n",
    "    axs[0].set_title('Original Image')\n",
    "    axs[1].imshow(rotated_image, cmap='gray', origin='lower')\n",
    "    axs[1].set_title('Rotated Image (North Up, East Left)')\n",
    "    plt.show()\n"
   ]
  },
  {
   "cell_type": "markdown",
   "metadata": {},
   "source": [
    "Read in the data files and define output directory"
   ]
  },
  {
   "cell_type": "code",
   "execution_count": null,
   "metadata": {},
   "outputs": [],
   "source": [
    "\n",
    "# Load datasets\n",
    "primer = '/home/bpc/University/master/Red_Cardinal/MIRI/PRIMER/'\n",
    "primer_data = glob.glob(os.path.join(primer, \"*.fits\"))\n",
    "print(f\"Found {len(primer_data)} FITS files.\")\n",
    "\n",
    "cweb = \"/home/bpc/University/master/Red_Cardinal/MIRI/COSMOS-Web/\"\n",
    "cweb_data = glob.glob(os.path.join(cweb, \"*.fits\"))\n",
    "print(f\"Found {len(cweb_data)} FITS files.\")\n",
    "\n",
    "# Create output directory\n",
    "output_dir = \"./rotated/\"\n",
    "os.makedirs(output_dir, exist_ok=True)\n",
    "\n",
    "#cutout_name =  f\"./cutouts/7102_F770W_cutout_primer.fits\"\n",
    "cutout_name =  f\"./cutouts/10592_F770W_cutout_primer.fits\"\n",
    "patch = f\"./MIRI/PRIMER/jw01837-o003_t003_miri_f770w_i2d.fits\""
   ]
  },
  {
   "cell_type": "markdown",
   "metadata": {},
   "source": [
    "Now we call the rotation function"
   ]
  },
  {
   "cell_type": "code",
   "execution_count": null,
   "metadata": {},
   "outputs": [],
   "source": [
    "process_fits(cutout_name, output_dir)\n"
   ]
  },
  {
   "cell_type": "code",
   "execution_count": null,
   "metadata": {},
   "outputs": [],
   "source": [
    "cutout_name =  f\"./cutouts/10592_F770W_cutout_primer.fits\"\n",
    "\n",
    "with fits.open(cutout_name) as hdul:\n",
    "    data = hdul[1].data\n",
    "    header = hdul[1].header\n",
    "    wcs = WCS(header)\n",
    "\n",
    "# Extract rotation angle from PC matrix\n",
    "if 'PC1_1' in header and 'PC2_2' in header:\n",
    "    pc_matrix = np.array([[header['PC1_1'], header['PC1_2']], \n",
    "                            [header['PC2_1'], header['PC2_2']]])\n",
    "    angle = np.arccos(-1*pc_matrix[0, 0]) * 180 / np.pi\n",
    "    print(\"First entry:\", pc_matrix[0,0])\n",
    "    print(header['PC1_1'])\n",
    "    print(header['PC1_2'])\n",
    "    print(header['PC2_1'])\n",
    "    print(header['PC2_2'])\n",
    "    print(\"Angle: \", angle)\n",
    "    print(pc_matrix)\n",
    "else:\n",
    "    print(\"No PC matrix found, assuming no rotation\")\n",
    "    angle = 0"
   ]
  }
 ],
 "metadata": {
  "kernelspec": {
   "display_name": "myenv",
   "language": "python",
   "name": "python3"
  },
  "language_info": {
   "codemirror_mode": {
    "name": "ipython",
    "version": 3
   },
   "file_extension": ".py",
   "mimetype": "text/x-python",
   "name": "python",
   "nbconvert_exporter": "python",
   "pygments_lexer": "ipython3",
   "version": "3.12.3"
  }
 },
 "nbformat": 4,
 "nbformat_minor": 2
}
