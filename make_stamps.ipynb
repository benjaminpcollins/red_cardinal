{
 "cells": [
  {
   "cell_type": "markdown",
   "id": "0",
   "metadata": {},
   "source": [
    "# Make RGB NIRCam stamps showing slit footprint\n",
    "We will be using the `trilogy` package to make RGB stamps and the shutter footprint regions.\n",
    "The information we need to show the footprint and the source (optional) is all in the \"shutters\" files.\n"
   ]
  },
  {
   "cell_type": "code",
   "execution_count": null,
   "id": "1",
   "metadata": {},
   "outputs": [],
   "source": [
    "%load_ext autoreload\n",
    "%autoreload 2\n",
    "\n",
    "import os\n",
    "import glob\n",
    "import numpy as np\n",
    "\n",
    "from astropy.io import fits\n",
    "from miri_utils.stamp_maker import resample_nircam, make_stamps"
   ]
  },
  {
   "cell_type": "code",
   "execution_count": null,
   "id": "2",
   "metadata": {},
   "outputs": [],
   "source": [
    "# ---------- SETUP ----------\n",
    "input_dir = \"/home/bpc/University/master/Red_Cardinal/cutouts_rot/\"\n",
    "output_dir = \"/home/bpc/University/master/Red_Cardinal/stamps_miri_v3/\"\n",
    "os.makedirs(output_dir, exist_ok=True)"
   ]
  },
  {
   "cell_type": "markdown",
   "id": "3",
   "metadata": {},
   "source": [
    "Now let's resample the NIRCam data instead of MIRI!\n",
    "\n",
    "NB: The transformation of the WCS does not work properly, but we are not concerned about it here since we only use the images to stack them together anyways, we don't care about sky coordinates here."
   ]
  },
  {
   "cell_type": "markdown",
   "id": "4",
   "metadata": {},
   "source": [
    "Call the resampling function:"
   ]
  },
  {
   "cell_type": "code",
   "execution_count": null,
   "id": "5",
   "metadata": {},
   "outputs": [],
   "source": [
    "resample_nircam(input_dir, 27)"
   ]
  },
  {
   "cell_type": "markdown",
   "id": "6",
   "metadata": {},
   "source": [
    "Specify directories and call make_stamps function!"
   ]
  },
  {
   "cell_type": "code",
   "execution_count": null,
   "id": "7",
   "metadata": {},
   "outputs": [],
   "source": [
    "table_dir = '/home/bpc/University/master/Red_Cardinal/photometry/phot_tables/Flux_Aperture_PSFMatched_AperCorr_MIRI_v5.fits'\n",
    "cutout_dir = '/home/bpc/University/master/Red_Cardinal/cutouts_rot/'\n",
    "output_dir = '/home/bpc/University/master/Red_Cardinal/stamps_miri_v3/'\n",
    "\n",
    "make_stamps(\n",
    "    table_path=table_dir, \n",
    "    cutout_dir=cutout_dir, \n",
    "    output_dir=output_dir\n",
    "    )"
   ]
  }
 ],
 "metadata": {
  "kernelspec": {
   "display_name": "Python 3 (ipykernel)",
   "language": "python",
   "name": "python3"
  },
  "language_info": {
   "codemirror_mode": {
    "name": "ipython",
    "version": 3
   },
   "file_extension": ".py",
   "mimetype": "text/x-python",
   "name": "python",
   "nbconvert_exporter": "python",
   "pygments_lexer": "ipython3",
   "version": "3.12.3"
  }
 },
 "nbformat": 4,
 "nbformat_minor": 5
}
