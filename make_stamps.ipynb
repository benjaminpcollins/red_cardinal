{
 "cells": [
  {
   "cell_type": "markdown",
   "id": "0",
   "metadata": {},
   "source": [
    "# Make RGB NIRCam stamps showing slit footprint\n",
    "We will be using the `trilogy` package to make RGB stamps and the shutter footprint regions.\n",
    "The information we need to show the footprint and the source (optional) is all in the \"shutters\" files.\n"
   ]
  },
  {
   "cell_type": "code",
   "execution_count": null,
   "id": "1",
   "metadata": {},
   "outputs": [],
   "source": [
    "from trilogy import trilogy\n",
    "from astropy.io import fits\n",
    "import astropy.wcs as wcs\n",
    "import numpy as np\n",
    "from astropy.table import Table\n",
    "from astropy import table\n",
    "\n",
    "from astropy.coordinates import SkyCoord\n",
    "import astropy.units as u\n",
    "import glob\n",
    "\n",
    "import matplotlib\n",
    "from matplotlib import pyplot as plt\n",
    "import PIL  # Python Image Library\n",
    "from PIL import Image\n",
    "\n",
    "import os, sys"
   ]
  },
  {
   "cell_type": "markdown",
   "id": "2",
   "metadata": {},
   "source": [
    "## Functions to make cutouts"
   ]
  },
  {
   "cell_type": "code",
   "execution_count": null,
   "id": "3",
   "metadata": {},
   "outputs": [],
   "source": [
    "# helper functions\n",
    "def roundint(x):\n",
    "    return int(np.round(x))\n",
    "\n",
    "def slices_extent(x, y, dx, dy=0):\n",
    "    dy = dy or dx\n",
    "    xlo = roundint(x-dx)\n",
    "    xhi = roundint(x+dx+1)\n",
    "    ylo = roundint(y-dy)\n",
    "    yhi = roundint(y+dy+1)\n",
    "    xslice = slice(xlo, xhi)\n",
    "    yslice = slice(ylo, yhi)\n",
    "    slices = yslice, xslice\n",
    "    extent = xlo, xhi, ylo, yhi\n",
    "    return slices, extent"
   ]
  },
  {
   "cell_type": "code",
   "execution_count": null,
   "id": "4",
   "metadata": {},
   "outputs": [],
   "source": [
    "def make_stamp_with_shutters(imagesRGB, source_region, shutter_regions,\n",
    "                             outfile='stamp.pdf', sourcemark=False, size_arcsec=3.0):\n",
    "    \"\"\"\n",
    "    Make RGB stamp using trilogy and overplot the footprint of the shutters\n",
    "    \"\"\"\n",
    "    \n",
    "    ##################\n",
    "    # MAKE RGB IMAGE #\n",
    "    ##################\n",
    "    \n",
    "    # set luminosity of the noise in each channel\n",
    "    noiselums = {'R': 0.2, 'G': 0.2, 'B': 0.2}\n",
    "    \n",
    "    old_stdout = sys.stdout # backup current stdout\n",
    "    sys.stdout = open(os.devnull, \"w\") # avoid printing out stuff\n",
    "    trilogy.Trilogy(infile = None, samplesize = 20000, stampsize = 20000, maxstampsize = 20000, \\\n",
    "                    deletetests = 1, deletefilters = 1, testfirst = 0, showwith = \"PIL\", \\\n",
    "                    mode = 'RGB', imagesorder = 'RGB', imagesRGB = imagesRGB, noiselums = noiselums, images = None, \\\n",
    "                    outname = 'color_image_temp', satpercent = 0.000, noiselum = 0.5, noisesig = 10, \\\n",
    "                    noisesig0 = 10, correctbias = 0, colorsatfac = 1, combine = 'sum', show = False).run()\n",
    "    sys.stdout = old_stdout # reset old stdout\n",
    "    \n",
    "    # read in RGB image and delete png file\n",
    "    im = Image.open('color_image_temp.png')\n",
    "    im = im.transpose(method=Image.FLIP_TOP_BOTTOM)\n",
    "    NIRCam_image = np.asarray(im)\n",
    "    os.remove('color_image_temp.png')\n",
    "    \n",
    "    # read WCS from a single FITS file\n",
    "    single_filename = imagesRGB['R'][0].split('[')[0] # remove '[1]' if present\n",
    "    image_hdulist = fits.open(single_filename)\n",
    "    image_wcs = wcs.WCS(image_hdulist[1].header, image_hdulist)\n",
    "    \n",
    "    #############################\n",
    "    # MAKE IMAGE WITH FOOTPRINT #\n",
    "    #############################\n",
    "    \n",
    "    # Define the image stamp region *centered on source*\n",
    "    source_x, source_y = image_wcs.world_to_pixel(source_region.center)\n",
    "    halfsize_arcsec = 0.5*size_arcsec*u.arcsec\n",
    "    halfsize_pixels = int(halfsize_arcsec.to(u.deg).value / np.abs(image_wcs.pixel_scale_matrix[0,0]))\n",
    "    slices, extent = slices_extent(source_x, source_y, halfsize_pixels)\n",
    "    xlo, xhi, ylo, yhi = extent\n",
    "    \n",
    "    fig, ax = plt.subplots(1, 1, figsize=(6, 6))\n",
    "    ax.imshow(NIRCam_image[slices], extent=extent, origin='lower')\n",
    "    \n",
    "    if sourcemark == True:\n",
    "        #source_region.to_pixel(image_wcs).plot(fc='blue')\n",
    "        ax.plot(source_x, source_y, 'o', mec='skyblue', mfc='None')\n",
    "    \n",
    "    for reg in shutter_regions:\n",
    "        reg.to_pixel(image_wcs).plot(color='skyblue', alpha=1, lw=2)\n",
    "    \n",
    "    ax.axis('off')  # hide the axis coordinates, ticks, and labels\n",
    "    fig.savefig(outfile, bbox_inches='tight', pad_inches=0.0)\n",
    "\n",
    "\n"
   ]
  },
  {
   "cell_type": "code",
   "execution_count": null,
   "id": "5",
   "metadata": {},
   "outputs": [],
   "source": []
  },
  {
   "cell_type": "markdown",
   "id": "6",
   "metadata": {},
   "source": [
    "## Make stamps"
   ]
  },
  {
   "cell_type": "code",
   "execution_count": null,
   "id": "7",
   "metadata": {},
   "outputs": [],
   "source": [
    "# read in shutter footprints\n",
    "import regions, pickle\n",
    "with open('shutters_bluejay/shutters_regions.pkl', 'rb') as f:\n",
    "    shutters = pickle.load(f)\n",
    "print(len(shutters))\n"
   ]
  },
  {
   "cell_type": "code",
   "execution_count": null,
   "id": "8",
   "metadata": {},
   "outputs": [],
   "source": [
    "# loop through the list of shutters\n",
    "for s in shutters:\n",
    "\n",
    "    # read shutters into regions objects\n",
    "    reg_source = regions.Regions.parse(s['source'], format='ds9')\n",
    "    reg_source = reg_source[0] # list of regions with only one entry\n",
    "    reg_aperture = regions.Regions.parse(s['AB_aperture'], format='ds9')\n",
    "    \n",
    "    # read FITS files with NIRCam cutouts\n",
    "    imagesRGB = {\"R\": [f\"v1.0_JWST_cutouts/{s['ID']}_F444W_cutout.fits[1]\"], \\\n",
    "                 \"G\": [f\"v1.0_JWST_cutouts/{s['ID']}_F200W_cutout.fits[1]\"], \\\n",
    "                 \"B\": [f\"v1.0_JWST_cutouts/{s['ID']}_F115W_cutout.fits[1]\"]}\n",
    "    \n",
    "    # make footprint\n",
    "    make_stamp_with_shutters(imagesRGB, reg_source, reg_aperture,\n",
    "                             outfile=f\"stamps/{s['ID']}.pdf\", sourcemark=False, size_arcsec=4.0)\n",
    "\n"
   ]
  },
  {
   "cell_type": "code",
   "execution_count": null,
   "id": "9",
   "metadata": {},
   "outputs": [],
   "source": [
    "\n"
   ]
  }
 ],
 "metadata": {
  "kernelspec": {
   "display_name": "Python 3 (ipykernel)",
   "language": "python",
   "name": "python3"
  },
  "language_info": {
   "codemirror_mode": {
    "name": "ipython",
    "version": 3
   },
   "file_extension": ".py",
   "mimetype": "text/x-python",
   "name": "python",
   "nbconvert_exporter": "python",
   "pygments_lexer": "ipython3",
   "version": "3.11.8"
  }
 },
 "nbformat": 4,
 "nbformat_minor": 5
}
