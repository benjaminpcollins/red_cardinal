{
 "cells": [
  {
   "cell_type": "markdown",
   "metadata": {},
   "source": [
    "# Notebook to calculate the rotation of the MIRI images with respect to NIRCam\n",
    "Let's start with the imports"
   ]
  },
  {
   "cell_type": "code",
   "execution_count": null,
   "metadata": {},
   "outputs": [],
   "source": [
    "%load_ext autoreload\n",
    "%autoreload 2\n",
    "\n",
    "import os\n",
    "import glob\n",
    "\n",
    "from miri_utils.rotate import calculate_angle, rotate_exp, expand_fits"
   ]
  },
  {
   "cell_type": "markdown",
   "metadata": {},
   "source": [
    "Now after all of this we are finally ready to import out actual data to be rotated!"
   ]
  },
  {
   "cell_type": "code",
   "execution_count": null,
   "metadata": {},
   "outputs": [],
   "source": [
    "# Load PRIMER .fits files\n",
    "primer003 = '/home/bpc/University/master/Red_Cardinal/MIRI/PRIMER_003/'\n",
    "primer003_data = glob.glob(os.path.join(primer003, \"*.fits\"))\n",
    "print(f\"Found {len(primer003_data)} FITS files for PRIMER survey within obseravtion 003.\")\n",
    "\n",
    "primer004 = '/home/bpc/University/master/Red_Cardinal/MIRI/PRIMER_004/'\n",
    "primer004_data = glob.glob(os.path.join(primer004, \"*.fits\"))\n",
    "print(f\"Found {len(primer004_data)} FITS files for PRIMER survey within obseravtion 004.\")\n",
    "\n",
    "# Load COSMOS-Web .fits files - here we will have to loop\n",
    "cweb1 = \"/home/bpc/University/master/Red_Cardinal/MIRI/COSMOS-Web_1/\"\n",
    "cweb1_data = glob.glob(os.path.join(cweb1, \"*.fits\"))\n",
    "print(f\"Found {len(cweb1_data)} FITS files for COSMOS-Web survey #1.\")\n",
    "\n",
    "cweb2 = \"/home/bpc/University/master/Red_Cardinal/MIRI/COSMOS-Web_2/\"\n",
    "cweb2_data = glob.glob(os.path.join(cweb2, \"*.fits\"))\n",
    "print(f\"Found {len(cweb2_data)} FITS files for COSMOS-Web survey #2.\")\n",
    "\n",
    "exp_dir = \"/home/bpc/University/master/Red_Cardinal/MIRI_expanded/\"\n",
    "\n",
    "# Create and specify output directory for PRIMER\n",
    "rot_dir = \"/home/bpc/University/master/Red_Cardinal/MIRI_rotated/PRIMER_003_rot/\"\n",
    "\n",
    "for fits_file in primer003_data:\n",
    "    angle = calculate_angle(fits_file)\n",
    "    # Decreasing the angle of rotation means it is getting rotated less in the clockwise direction!!\n",
    "    #angle -= 225 # add an additional 180° to the rotation\n",
    "    print(\"PRIMER 003: \", angle)\n",
    "    #exp_fits = expand_fits(fits_file, exp_dir, angle)\n",
    "    #exp_rot_fits = rotate_exp(exp_fits, rot_dir, angle)\n",
    "\n",
    "\n",
    "# Create and specify output directory for PRIMER\n",
    "rot_dir = \"/home/bpc/University/master/Red_Cardinal/MIRI_rotated/PRIMER_004_rot/\"\n",
    "\n",
    "for fits_file in primer004_data:\n",
    "    angle = calculate_angle(fits_file)\n",
    "    print(\"PRIMER 004: \", angle)\n",
    "    # Decreasing the angle of rotation means it is getting rotated less in the clockwise direction!!\n",
    "    #exp_fits = expand_fits(fits_file, exp_dir, angle)\n",
    "    #exp_rot_fits = rotate_exp(exp_fits, rot_dir, angle)\n",
    "\n",
    "\n",
    "# Create and specify output directory for Cosmos-Web\n",
    "rot_dir = \"/home/bpc/University/master/Red_Cardinal/MIRI_rotated/COSMOS-Web_1_rot/\"\n",
    "\n",
    "for fits_file in cweb1_data:   \n",
    "    angle = calculate_angle(fits_file)\n",
    "    print(\"COSMOS-Web 1: \", angle)\n",
    "    #exp_fits = expand_fits(fits_file, exp_dir, angle)\n",
    "    #exp_rot_fits = rotate_exp(exp_fits, rot_dir, angle)\n",
    "\n",
    "rot_dir = \"/home/bpc/University/master/Red_Cardinal/MIRI_rotated/COSMOS-Web_2_rot/\"\n",
    "for fits_file in cweb2_data:   \n",
    "    angle = calculate_angle(fits_file)\n",
    "    print(\"COSMOS-Web 2: \", angle)\n",
    "    #exp_fits = expand_fits(fits_file, exp_dir, -angle)\n",
    "    #exp_rot_fits = rotate_exp(exp_fits, rot_dir, -angle)\n"
   ]
  }
 ],
 "metadata": {
  "kernelspec": {
   "display_name": "myenv",
   "language": "python",
   "name": "python3"
  },
  "language_info": {
   "codemirror_mode": {
    "name": "ipython",
    "version": 3
   },
   "file_extension": ".py",
   "mimetype": "text/x-python",
   "name": "python",
   "nbconvert_exporter": "python",
   "pygments_lexer": "ipython3",
   "version": "3.12.3"
  }
 },
 "nbformat": 4,
 "nbformat_minor": 2
}
