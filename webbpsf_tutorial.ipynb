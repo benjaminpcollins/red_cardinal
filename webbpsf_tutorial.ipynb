{
 "cells": [
  {
   "cell_type": "markdown",
   "metadata": {},
   "source": [
    "# Tutorial to get used to WebbPSF"
   ]
  },
  {
   "cell_type": "code",
   "execution_count": null,
   "metadata": {},
   "outputs": [],
   "source": [
    "import matplotlib, matplotlib.pyplot as plt\n",
    "import stpsf\n",
    "import os\n",
    "\n",
    "psf_dir = \"/home/bpc/University/master/Red_Cardinal/WebbPSF/\"\n",
    "os.makedirs(psf_dir, exist_ok=True)"
   ]
  },
  {
   "cell_type": "code",
   "execution_count": null,
   "metadata": {},
   "outputs": [],
   "source": [
    "nrc = stpsf.NIRCam()\n",
    "nrc.filter = 'F444W'\n",
    "psf = nrc.calc_psf(oversample=4)"
   ]
  },
  {
   "cell_type": "code",
   "execution_count": null,
   "metadata": {},
   "outputs": [],
   "source": [
    "stpsf.display_psf(psf)"
   ]
  },
  {
   "cell_type": "code",
   "execution_count": null,
   "metadata": {},
   "outputs": [],
   "source": [
    "plt.imshow(psf[0].data, norm=matplotlib.colors.LogNorm(1e-6,1))\n",
    "psf_name = os.path.join(psf_dir, 'myPSF.fits')\n",
    "psf.writeto(psf_name, overwrite=True)"
   ]
  },
  {
   "cell_type": "code",
   "execution_count": null,
   "metadata": {},
   "outputs": [],
   "source": [
    "plt.figure(figsize=(6,8))\n",
    "nrc.calc_psf(display=True)"
   ]
  },
  {
   "cell_type": "code",
   "execution_count": null,
   "metadata": {},
   "outputs": [],
   "source": [
    "miri = stpsf.MIRI()\n",
    "miri.filter = 'F770W'\n",
    "psf = miri.calc_psf(oversample=4)\n",
    "stpsf.display_psf(psf)\n",
    "psf_name = os.path.join(psf_dir, 'PSF_MIRI_F770W.fits')\n",
    "psf.writeto(psf_name, overwrite=True)"
   ]
  },
  {
   "cell_type": "code",
   "execution_count": null,
   "metadata": {},
   "outputs": [],
   "source": [
    "plt.figure(figsize=(6,8))\n",
    "miri.calc_psf(display=True)"
   ]
  },
  {
   "cell_type": "code",
   "execution_count": null,
   "metadata": {},
   "outputs": [],
   "source": [
    "miri.filter = 'F1800W'\n",
    "psf = miri.calc_psf(oversample=4)\n",
    "stpsf.display_psf(psf)\n",
    "psf_name = os.path.join(psf_dir, 'PSF_MIRI_F1800W.fits')\n",
    "psf.writeto(psf_name, overwrite=True)"
   ]
  },
  {
   "cell_type": "code",
   "execution_count": null,
   "metadata": {},
   "outputs": [],
   "source": [
    "plt.figure(figsize=(6,8))\n",
    "miri.calc_psf(display=True)"
   ]
  }
 ],
 "metadata": {
  "kernelspec": {
   "display_name": "myenv",
   "language": "python",
   "name": "python3"
  },
  "language_info": {
   "codemirror_mode": {
    "name": "ipython",
    "version": 3
   },
   "file_extension": ".py",
   "mimetype": "text/x-python",
   "name": "python",
   "nbconvert_exporter": "python",
   "pygments_lexer": "ipython3",
   "version": "3.12.3"
  }
 },
 "nbformat": 4,
 "nbformat_minor": 2
}
