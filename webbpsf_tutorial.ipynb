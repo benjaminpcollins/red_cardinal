{
 "cells": [
  {
   "cell_type": "markdown",
   "metadata": {},
   "source": [
    "# Tutorial to get used to WebbPSF"
   ]
  },
  {
   "cell_type": "code",
   "execution_count": null,
   "metadata": {},
   "outputs": [],
   "source": [
    "import matplotlib, matplotlib.pyplot as plt\n",
    "import stpsf\n",
    "import os\n",
    "\n",
    "from astropy.io import fits\n",
    "\n",
    "\n",
    "psf_dir = \"/home/bpc/University/master/Red_Cardinal/WebbPSF/\"\n",
    "os.makedirs(psf_dir, exist_ok=True)"
   ]
  },
  {
   "cell_type": "code",
   "execution_count": null,
   "metadata": {},
   "outputs": [],
   "source": [
    "nrc = stpsf.NIRCam()\n",
    "nrc.filter = 'F444W'\n",
    "psf = nrc.calc_psf(oversample=4)"
   ]
  },
  {
   "cell_type": "code",
   "execution_count": null,
   "metadata": {},
   "outputs": [],
   "source": [
    "stpsf.display_psf(psf)"
   ]
  },
  {
   "cell_type": "code",
   "execution_count": null,
   "metadata": {},
   "outputs": [],
   "source": [
    "plt.imshow(psf[0].data, norm=matplotlib.colors.LogNorm(1e-6,1))\n",
    "psf_name = os.path.join(psf_dir, 'myPSF.fits')\n",
    "psf.writeto(psf_name, overwrite=True)"
   ]
  },
  {
   "cell_type": "code",
   "execution_count": null,
   "metadata": {},
   "outputs": [],
   "source": [
    "plt.figure(figsize=(6,8))\n",
    "nrc.calc_psf(display=True)"
   ]
  },
  {
   "cell_type": "markdown",
   "metadata": {},
   "source": [
    "# MIRI F770W"
   ]
  },
  {
   "cell_type": "code",
   "execution_count": null,
   "metadata": {},
   "outputs": [],
   "source": [
    "miri = stpsf.MIRI()\n",
    "miri.filter = 'F770W'\n",
    "psf = miri.calc_psf(oversample=4)\n",
    "stpsf.display_psf(psf)\n",
    "psf_name = os.path.join(psf_dir, 'PSF_MIRI_F770W.fits')\n",
    "psf.writeto(psf_name, overwrite=True)"
   ]
  },
  {
   "cell_type": "code",
   "execution_count": null,
   "metadata": {},
   "outputs": [],
   "source": [
    "psf_file ='/home/bpc/University/master/Red_Cardinal/WebbPSF/PSF_MIRI_F770W.fits'\n",
    "\n",
    "psf = fits.open(psf_file)\n",
    "\n",
    "fig, axes = plt.subplots(figsize=(12,3), ncols=4)\n",
    "plt.suptitle('PSF models F770W', fontsize=14)\n",
    "for ext in range(len(psf)):\n",
    "    stpsf.display_psf(psf, ext=ext, ax=axes[ext], title=f'Ext {ext}: {psf[ext].header[\"EXTNAME\"]}',\n",
    "                       imagecrop=5, colorbar=False)\n",
    "\n",
    "    print(f\"Extension {ext} has oversampling factor = \", psf[ext].header['OVERSAMP'],\n",
    "          f\"\\tPixelscale = {psf[ext].header['PIXELSCL']:.4f} arcsec/pix\",\n",
    "          f\"\\tFWHM = {stpsf.measure_fwhm(psf, ext=ext):.4f} arcsec\")"
   ]
  },
  {
   "cell_type": "code",
   "execution_count": null,
   "metadata": {},
   "outputs": [],
   "source": [
    "plt.figure(figsize=(6,8))\n",
    "miri.calc_psf(display=True)"
   ]
  },
  {
   "cell_type": "markdown",
   "metadata": {},
   "source": [
    "# MIRI F1000W"
   ]
  },
  {
   "cell_type": "code",
   "execution_count": null,
   "metadata": {},
   "outputs": [],
   "source": [
    "miri = stpsf.MIRI()\n",
    "miri.filter = 'F1000W'\n",
    "psf = miri.calc_psf(oversample=4)\n",
    "stpsf.display_psf(psf)\n",
    "psf_name = os.path.join(psf_dir, 'PSF_MIRI_F1000W.fits')\n",
    "psf.writeto(psf_name, overwrite=True)"
   ]
  },
  {
   "cell_type": "code",
   "execution_count": null,
   "metadata": {},
   "outputs": [],
   "source": [
    "psf_file ='/home/bpc/University/master/Red_Cardinal/WebbPSF/PSF_MIRI_F1000W.fits'\n",
    "\n",
    "psf = fits.open(psf_file)\n",
    "\n",
    "fig, axes = plt.subplots(figsize=(12,3), ncols=4)\n",
    "plt.suptitle('PSF models F1000W', fontsize=14)\n",
    "for ext in range(len(psf)):\n",
    "    stpsf.display_psf(psf, ext=ext, ax=axes[ext], title=f'Ext {ext}: {psf[ext].header[\"EXTNAME\"]}',\n",
    "                       imagecrop=5, colorbar=False)\n",
    "\n",
    "    print(f\"Extension {ext} has oversampling factor = \", psf[ext].header['OVERSAMP'],\n",
    "          f\"\\tPixelscale = {psf[ext].header['PIXELSCL']:.4f} arcsec/pix\",\n",
    "          f\"\\tFWHM = {stpsf.measure_fwhm(psf, ext=ext):.4f} arcsec\")"
   ]
  },
  {
   "cell_type": "code",
   "execution_count": null,
   "metadata": {},
   "outputs": [],
   "source": [
    "plt.figure(figsize=(6,8))\n",
    "miri.calc_psf(display=True)"
   ]
  },
  {
   "cell_type": "markdown",
   "metadata": {},
   "source": [
    "# MIRI F1800W"
   ]
  },
  {
   "cell_type": "code",
   "execution_count": null,
   "metadata": {},
   "outputs": [],
   "source": [
    "miri = stpsf.MIRI()\n",
    "miri.filter = 'F1800W'\n",
    "psf = miri.calc_psf(oversample=4)\n",
    "stpsf.display_psf(psf)\n",
    "psf_name = os.path.join(psf_dir, 'PSF_MIRI_F1800W.fits')\n",
    "psf.writeto(psf_name, overwrite=True)"
   ]
  },
  {
   "cell_type": "code",
   "execution_count": null,
   "metadata": {},
   "outputs": [],
   "source": [
    "psf_file ='/home/bpc/University/master/Red_Cardinal/WebbPSF/PSF_MIRI_F1800W.fits'\n",
    "\n",
    "psf = fits.open(psf_file)\n",
    "\n",
    "fig, axes = plt.subplots(figsize=(12,3), ncols=4)\n",
    "plt.suptitle('PSF models F1800W', fontsize=14)\n",
    "for ext in range(len(psf)):\n",
    "    stpsf.display_psf(psf, ext=ext, ax=axes[ext], title=f'Ext {ext}: {psf[ext].header[\"EXTNAME\"]}',\n",
    "                       imagecrop=5, colorbar=False)\n",
    "\n",
    "    print(f\"Extension {ext} has oversampling factor = \", psf[ext].header['OVERSAMP'],\n",
    "          f\"\\tPixelscale = {psf[ext].header['PIXELSCL']:.4f} arcsec/pix\",\n",
    "          f\"\\tFWHM = {stpsf.measure_fwhm(psf, ext=ext):.4f} arcsec\")"
   ]
  },
  {
   "cell_type": "code",
   "execution_count": null,
   "metadata": {},
   "outputs": [],
   "source": [
    "plt.figure(figsize=(6,8))\n",
    "miri.calc_psf(display=True)"
   ]
  },
  {
   "cell_type": "markdown",
   "metadata": {},
   "source": [
    "# MIRI F2100W"
   ]
  },
  {
   "cell_type": "code",
   "execution_count": null,
   "metadata": {},
   "outputs": [],
   "source": [
    "miri = stpsf.MIRI()\n",
    "miri.filter = 'F2100W'\n",
    "psf = miri.calc_psf(oversample=4)\n",
    "stpsf.display_psf(psf)\n",
    "psf_name = os.path.join(psf_dir, 'PSF_MIRI_F2100W.fits')\n",
    "psf.writeto(psf_name, overwrite=True)"
   ]
  },
  {
   "cell_type": "code",
   "execution_count": null,
   "metadata": {},
   "outputs": [],
   "source": [
    "psf_file ='/home/bpc/University/master/Red_Cardinal/WebbPSF/PSF_MIRI_F2100W.fits'\n",
    "\n",
    "psf = fits.open(psf_file)\n",
    "\n",
    "fig, axes = plt.subplots(figsize=(12,3), ncols=4)\n",
    "plt.suptitle('PSF models F2100W', fontsize=14)\n",
    "for ext in range(len(psf)):\n",
    "    stpsf.display_psf(psf, ext=ext, ax=axes[ext], title=f'Ext {ext}: {psf[ext].header[\"EXTNAME\"]}',\n",
    "                       imagecrop=5, colorbar=False)\n",
    "\n",
    "    print(f\"Extension {ext} has oversampling factor = \", psf[ext].header['OVERSAMP'],\n",
    "          f\"\\tPixelscale = {psf[ext].header['PIXELSCL']:.4f} arcsec/pix\",\n",
    "          f\"\\tFWHM = {stpsf.measure_fwhm(psf, ext=ext):.4f} arcsec\")"
   ]
  },
  {
   "cell_type": "code",
   "execution_count": null,
   "metadata": {},
   "outputs": [],
   "source": [
    "plt.figure(figsize=(6,8))\n",
    "miri.calc_psf(display=True)"
   ]
  }
 ],
 "metadata": {
  "kernelspec": {
   "display_name": "myenv",
   "language": "python",
   "name": "python3"
  },
  "language_info": {
   "codemirror_mode": {
    "name": "ipython",
    "version": 3
   },
   "file_extension": ".py",
   "mimetype": "text/x-python",
   "name": "python",
   "nbconvert_exporter": "python",
   "pygments_lexer": "ipython3",
   "version": "3.12.3"
  }
 },
 "nbformat": 4,
 "nbformat_minor": 2
}
