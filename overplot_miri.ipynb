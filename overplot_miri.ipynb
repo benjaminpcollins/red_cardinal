{
 "cells": [
  {
   "cell_type": "markdown",
   "metadata": {},
   "source": [
    "# Notebook to overplot MIRI photometry on existing PROSPECTOR fits"
   ]
  },
  {
   "cell_type": "code",
   "execution_count": null,
   "metadata": {},
   "outputs": [],
   "source": [
    "%load_ext autoreload\n",
    "%autoreload 2\n",
    "\n",
    "import os\n",
    "import numpy as np\n",
    "import matplotlib.pyplot as plt\n",
    "import prospect.io.read_results as reader\n",
    "\n",
    "from astropy.io import fits\n",
    "from astropy import units as u\n",
    "from prospect.io.read_results import results_from\n",
    "from astropy.table import Table\n",
    "from miri_utils.prospector_utils import plot_reconstruction_with_miri\n"
   ]
  },
  {
   "cell_type": "markdown",
   "metadata": {},
   "source": [
    "Let's load the data from some example output"
   ]
  },
  {
   "cell_type": "code",
   "execution_count": null,
   "metadata": {},
   "outputs": [],
   "source": [
    "catalogue =  '/Users/benjamincollins/University/master/Red_Cardinal/photometry/catalogues/cat_targets.fits'\n",
    "\n",
    "with fits.open(catalogue) as catalog_hdul:\n",
    "        cat_data = catalog_hdul[1].data\n",
    "        ids = cat_data['id']\n",
    "        ra = cat_data['ra']\n",
    "        dec = cat_data['dec']\n",
    "        zred = cat_data['z_best']\n",
    "\n",
    "# Combine IDs and redshifts into an array of tuples\n",
    "output_array = np.array(list(zip(ids, zred)), dtype=[('galid', int), ('zred', '<f8')])\n",
    "\n",
    "# Save to text file\n",
    "np.savetxt('/Users/benjamincollins/University/master/Red_Cardinal/photometry/catalogues/redshifts.txt',\n",
    "           output_array,\n",
    "           fmt='%d %.8f',\n",
    "           header='galid zred')\n",
    "\n",
    "# Check output files\n",
    "res, obs, mod = results_from('/Users/benjamincollins/University/master/Red_Cardinal/prospector/outputs/output_7102_allfal_v1.4phot_0.3sigma_solar_marg_1733274947_mcmc.h5')\n",
    "\n",
    "print(res['theta_labels'])       # Parameter names\n",
    "print(res['chain'].shape)        # Shape of the posterior samples\n",
    "print(res['bestfit'].keys())     # Best-fit photometry, spectrum, chi2, etc.\n"
   ]
  },
  {
   "cell_type": "markdown",
   "metadata": {},
   "source": [
    "Inspect Amir's photometry table"
   ]
  },
  {
   "cell_type": "code",
   "execution_count": null,
   "metadata": {},
   "outputs": [],
   "source": [
    "# Load the bluejay catalogue\n",
    "bluejay_phot = fits.open('/Users/benjamincollins/University/master/Red_Cardinal/photometry/catalogues/bluejay_phot_cat_v1.4.fits')[1].data\n",
    "bluejay_phot = Table(bluejay_phot)\n",
    "print(bluejay_phot.colnames)  # Print column names to inspect the table structure"
   ]
  },
  {
   "cell_type": "markdown",
   "metadata": {},
   "source": [
    "Example usage:"
   ]
  },
  {
   "cell_type": "code",
   "execution_count": null,
   "metadata": {},
   "outputs": [],
   "source": [
    "# Example: plot results for galaxy with ID 12345 using specific h5 file\n",
    "objid = 12717  # Replace with your galaxy ID\n",
    "\n",
    "output_dir = '/Users/benjamincollins/University/master/Red_Cardinal/prospector/fits_plus_miri/'\n",
    "obs, model, results = plot_reconstruction_with_miri(objid, output_dir)"
   ]
  },
  {
   "cell_type": "code",
   "execution_count": null,
   "metadata": {},
   "outputs": [],
   "source": [
    "# Directory containing your PROSPECTOR outputs\n",
    "output_dir = \"/Users/benjamincollins/University/master/Red_Cardinal/prospector_outputs/\"\n",
    "\n",
    "# Example: plot a single object\n",
    "objid = 16874 #19681  # Replace with your object ID\n",
    "objid = 16615\n",
    "\n",
    "# Find the output file for this object\n",
    "import os\n",
    "output_files = [f for f in os.listdir(output_dir) if f.endswith('.h5')]\n",
    "matching_files = [f for f in output_files if f'_{objid}_' in f]\n",
    "\n",
    "if matching_files:\n",
    "    output_file = os.path.join(output_dir, matching_files[0])\n",
    "    phot_table = '/Users/benjamincollins/University/master/Red_Cardinal/photometry/results/Flux_Aperture_PSFMatched_AperCorr_MIRI_v4.fits'\n",
    "    plot_existing_fit_with_miri(objid, phot_table, output_file)\n",
    "else:\n",
    "    print(f\"No output file found for object {objid}\")\n",
    "\n",
    "# Or plot multiple objects:\n",
    "# objid_list = [12345, 67890, 11111]  # Replace with your object IDs\n",
    "# plot_multiple_objects(objid_list, output_dir)"
   ]
  }
 ],
 "metadata": {
  "kernelspec": {
   "display_name": "prospector",
   "language": "python",
   "name": "python3"
  },
  "language_info": {
   "codemirror_mode": {
    "name": "ipython",
    "version": 3
   },
   "file_extension": ".py",
   "mimetype": "text/x-python",
   "name": "python",
   "nbconvert_exporter": "python",
   "pygments_lexer": "ipython3",
   "version": "3.11.0"
  }
 },
 "nbformat": 4,
 "nbformat_minor": 2
}
