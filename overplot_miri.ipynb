{
 "cells": [
  {
   "cell_type": "markdown",
   "metadata": {},
   "source": [
    "# Notebook to overplot MIRI photometry on existing PROSPECTOR fits"
   ]
  },
  {
   "cell_type": "code",
   "execution_count": null,
   "metadata": {},
   "outputs": [],
   "source": [
    "%load_ext autoreload\n",
    "%autoreload 2\n",
    "\n",
    "import os\n",
    "import numpy as np\n",
    "import matplotlib.pyplot as plt\n",
    "import prospect.io.read_results as reader\n",
    "import pickle as pkl\n",
    "\n",
    "from astropy.io import fits\n",
    "from astropy import units as u\n",
    "from prospect.io.read_results import results_from\n",
    "from astropy.table import Table\n",
    "from miri_utils.prospector_utils import plot_reconstruction_with_miri\n"
   ]
  },
  {
   "cell_type": "markdown",
   "metadata": {},
   "source": [
    "Let's load the data from some example output"
   ]
  },
  {
   "cell_type": "code",
   "execution_count": null,
   "metadata": {},
   "outputs": [],
   "source": [
    "catalogue =  '/Users/benjamincollins/University/master/Red_Cardinal/photometry/catalogues/cat_targets.fits'\n",
    "\n",
    "with fits.open(catalogue) as catalog_hdul:\n",
    "        cat_data = catalog_hdul[1].data\n",
    "        ids = cat_data['id']\n",
    "        ra = cat_data['ra']\n",
    "        dec = cat_data['dec']\n",
    "        zred = cat_data['z_best']\n",
    "\n",
    "# Combine IDs and redshifts into an array of tuples\n",
    "output_array = np.array(list(zip(ids, zred)), dtype=[('galid', int), ('zred', '<f8')])\n",
    "\n",
    "# Save to text file\n",
    "np.savetxt('/Users/benjamincollins/University/master/Red_Cardinal/photometry/catalogues/redshifts.txt',\n",
    "           output_array,\n",
    "           fmt='%d %.8f',\n",
    "           header='galid zred')\n",
    "\n",
    "# Check output files\n",
    "res, obs, mod = results_from('/Users/benjamincollins/University/master/Red_Cardinal/prospector/outputs/output_7102_allfal_v1.4phot_0.3sigma_solar_marg_1733274947_mcmc.h5')\n",
    "print(res.keys())\n",
    "print(res['theta_labels'])       # Parameter names\n",
    "print(res['chain'].shape)        # Shape of the posterior samples\n",
    "print(res['bestfit'].keys())     # Best-fit photometry, spectrum, chi2, etc.\n"
   ]
  },
  {
   "cell_type": "code",
   "execution_count": null,
   "metadata": {},
   "outputs": [],
   "source": [
    "# Check output files\n",
    "res, obs, mod = results_from('/Users/benjamincollins/University/master/Red_Cardinal/prospector/outputs/output_7102_allfal_v1.4phot_0.3sigma_solar_marg_1733274947_mcmc.h5')\n",
    "print(res.keys())\n",
    "print(res['theta_labels'])       # Parameter names\n",
    "print(res['chain'].shape)        # Shape of the posterior samples\n",
    "print(res['bestfit'].keys())     # Best-fit photometry, spectrum, chi2, etc.\n"
   ]
  },
  {
   "cell_type": "markdown",
   "metadata": {},
   "source": [
    "Inspect Amir's photometry table"
   ]
  },
  {
   "cell_type": "code",
   "execution_count": null,
   "metadata": {},
   "outputs": [],
   "source": [
    "# Load the bluejay catalogue\n",
    "bluejay_phot = fits.open('/Users/benjamincollins/University/master/Red_Cardinal/photometry/catalogues/bluejay_phot_cat_v1.4.fits')[1].data\n",
    "#bluejay_phot = fits.open('/Users/benjamincollins/University/master/Red_Cardinal/photometry/catalogues/cat_targets.fits')[1].data\n",
    "bluejay_phot = Table(bluejay_phot)\n",
    "print(bluejay_phot.colnames)  # Print column names to inspect the table structure"
   ]
  },
  {
   "cell_type": "markdown",
   "metadata": {},
   "source": [
    "Example usage:"
   ]
  },
  {
   "cell_type": "code",
   "execution_count": null,
   "metadata": {},
   "outputs": [],
   "source": [
    "# Example: plot results for galaxy with ID 12345 using specific h5 file\n",
    "\n",
    "table_path = '/Users/benjamincollins/University/Master/Red_Cardinal/photometry/phot_tables/Photometry_Table_MIRI_v6.fits'\n",
    "\n",
    "table = Table.read(table_path, format='fits')\n",
    "galaxy_ids = np.asarray([str(gid) for gid in table['ID']])\n",
    "\n",
    "output_dir = '/Users/benjamincollins/University/master/Red_Cardinal/prospector/fits_plus_miri/'\n",
    "\n",
    "x=0\n",
    "while x<5:\n",
    "    for objid in galaxy_ids:\n",
    "        plot_reconstruction_with_miri(int(objid), output_dir)\n",
    "        x += 1\n",
    "        \n",
    "#plot_reconstruction_with_miri(7922, output_dir=output_dir)\n",
    "#plot_reconstruction_with_miri(9871, output_dir=output_dir)\n",
    "#plot_reconstruction_with_miri(12717, output_dir=output_dir)"
   ]
  },
  {
   "cell_type": "code",
   "execution_count": null,
   "metadata": {},
   "outputs": [],
   "source": [
    "# Directory containing your PROSPECTOR outputs\n",
    "output_dir = \"/Users/benjamincollins/University/master/Red_Cardinal/prospector_outputs/\"\n",
    "\n",
    "# Example: plot a single object\n",
    "objid = 16874 #19681  # Replace with your object ID\n",
    "objid = 16615\n",
    "\n",
    "# Find the output file for this object\n",
    "import os\n",
    "output_files = [f for f in os.listdir(output_dir) if f.endswith('.h5')]\n",
    "matching_files = [f for f in output_files if f'_{objid}_' in f]\n",
    "\n",
    "if matching_files:\n",
    "    output_file = os.path.join(output_dir, matching_files[0])\n",
    "    phot_table = '/Users/benjamincollins/University/master/Red_Cardinal/photometry/results/Flux_Aperture_PSFMatched_AperCorr_MIRI_v4.fits'\n",
    "    plot_existing_fit_with_miri(objid, phot_table, output_file)\n",
    "else:\n",
    "    print(f\"No output file found for object {objid}\")\n",
    "\n",
    "# Or plot multiple objects:\n",
    "# objid_list = [12345, 67890, 11111]  # Replace with your object IDs\n",
    "# plot_multiple_objects(objid_list, output_dir)"
   ]
  },
  {
   "cell_type": "code",
   "execution_count": null,
   "metadata": {},
   "outputs": [],
   "source": [
    "npy_file = '/Users/benjamincollins/University/master/Red_Cardinal/prospector/obs/obs_12717.npy'\n",
    "obs = np.load(npy_file, allow_pickle=True).item()\n",
    "\n",
    "param_file = '/Users/benjamincollins/University/master/Red_Cardinal/prospector/params/params_MAP_12717.pkl'\n",
    "params = pkl.load(open(param_file, 'rb'))\n",
    "#print(params.keys())\n",
    "\n",
    "param_file = '/Users/benjamincollins/University/master/Red_Cardinal/prospector/spec_calib/spec_calibrated_12717.pkl'\n",
    "data = pkl.load(open(param_file, 'rb'))\n",
    "print(data['emi_off']['MAP'].keys())\n",
    "\n",
    "obs_file = f'/Users/benjamincollins/University/master/Red_Cardinal/prospector/obs/obs_12717.npy'\n",
    "obs = np.load(obs_file, allow_pickle=True).item()\n",
    "print(obs.keys())\n",
    "print(len(obs['mask']))\n",
    "print(len(obs['spectrum']))\n",
    "print(len(obs['spectrum'][obs['mask']]))\n",
    "\n",
    "plt.plot(obs['wavelength'][obs['mask']], obs['spectrum'][obs['mask']], label=\"Observed spectrum\")\n",
    "#plt.plot(data['wave_obs'], data['MAP']['wave_obs'], label=\"MAP spectrum\")\n",
    "#plt.plot(data['wave_obs'], data['nodust'], label=\"No dust\", linestyle=\"--\")\n",
    "plt.plot(data['wave_obs'], data['emi_off']['MAP']['wave_obs'], label=\"No emission lines\", linestyle=\"-\")\n",
    "plt.loglog()\n",
    "plt.xlabel(\"Observed wavelength [Å]\")\n",
    "plt.ylabel(\"Flux [maggies or arbitrary units]\")\n",
    "plt.legend()\n",
    "plt.title(\"Calibrated Model Spectrum Variants\")\n",
    "plt.show()"
   ]
  }
 ],
 "metadata": {
  "kernelspec": {
   "display_name": "prospector",
   "language": "python",
   "name": "python3"
  },
  "language_info": {
   "codemirror_mode": {
    "name": "ipython",
    "version": 3
   },
   "file_extension": ".py",
   "mimetype": "text/x-python",
   "name": "python",
   "nbconvert_exporter": "python",
   "pygments_lexer": "ipython3",
   "version": "3.11.0"
  }
 },
 "nbformat": 4,
 "nbformat_minor": 2
}
