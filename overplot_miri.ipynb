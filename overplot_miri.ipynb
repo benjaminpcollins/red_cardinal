{
 "cells": [
  {
   "cell_type": "markdown",
   "metadata": {},
   "source": [
    "# Notebook to overplot MIRI photometry on existing PROSPECTOR fits"
   ]
  },
  {
   "cell_type": "code",
   "execution_count": null,
   "metadata": {},
   "outputs": [],
   "source": [
    "%load_ext autoreload\n",
    "%autoreload 2\n",
    "\n",
    "import os\n",
    "import numpy as np\n",
    "import matplotlib.pyplot as plt\n",
    "import prospect.io.read_results as reader\n",
    "import pickle as pkl\n",
    "import pandas as pd\n",
    "\n",
    "from astropy.io import fits\n",
    "from astropy import units as u\n",
    "from prospect.io.read_results import results_from\n",
    "from astropy.table import Table\n",
    "from prospector_utils.plotting import reconstruct, load_and_display, create_hist\n",
    "from prospector_utils.analysis import compute_residuals\n",
    "import prospect\n",
    "print(prospect.__file__)"
   ]
  },
  {
   "cell_type": "markdown",
   "metadata": {},
   "source": [
    "Set the galaxy_ids array"
   ]
  },
  {
   "cell_type": "code",
   "execution_count": null,
   "metadata": {},
   "outputs": [],
   "source": [
    "table_path = '/Users/benjamincollins/University/Master/Red_Cardinal/photometry/phot_tables/Photometry_Table_MIRI_v6.fits'\n",
    "\n",
    "table = Table.read(table_path, format='fits')\n",
    "galaxy_ids = np.asarray([str(gid) for gid in table['ID']])\n",
    "\n",
    "galaxy_ids = reversed(galaxy_ids)\n"
   ]
  },
  {
   "cell_type": "markdown",
   "metadata": {},
   "source": [
    "Reconstruct and plot the prospector outputs with MIRI"
   ]
  },
  {
   "cell_type": "code",
   "execution_count": null,
   "metadata": {},
   "outputs": [],
   "source": [
    "plot = '/Users/benjamincollins/University/master/Red_Cardinal/prospector/fits/'\n",
    "plot_nodust = '/Users/benjamincollins/University/master/Red_Cardinal/prospector/fits_nodust/'\n",
    "\n",
    "stats = '/Users/benjamincollins/University/master/Red_Cardinal/prospector/pickle_files/'\n",
    "stats_nodust = '/Users/benjamincollins/University/master/Red_Cardinal/prospector/pickle_files_nodust_v2/'\n",
    "\n",
    "for gid in galaxy_ids:\n",
    "    reconstruct(int(gid), stats_dir=stats, add_duste=True)\n",
    "    #reconstruct(int(gid), plot_dir=plot_nodust, stats_dir=stats_nodust, add_duste=False)\n",
    "    \n",
    "#reconstruct(12513, plot_dir=plot_dir, stats_dir=stats_dir, add_duste=False)\n",
    "#reconstruct(16424, plot_dir=plot_dir, stats_dir=stats_dir, add_duste=False)\n",
    "#reconstruct(9871, plot_dir=plot_dir, stats_dir=stats_dir, add_duste=False)\n",
    "#reconstruct(12717, plot_dir=plot, stats_dir=stats, add_duste=True)\n",
    "#reconstruct(12717, plot_dir=plot_nodust, stats_dir=stats_nodust, add_duste=False)\n"
   ]
  },
  {
   "cell_type": "markdown",
   "metadata": {},
   "source": [
    "Section just to load pickle file and display the plot"
   ]
  },
  {
   "cell_type": "code",
   "execution_count": null,
   "metadata": {},
   "outputs": [],
   "source": [
    "load_and_display(12717)\n",
    "load_and_display(18769)"
   ]
  },
  {
   "cell_type": "markdown",
   "metadata": {},
   "source": [
    "Check the stored obs file in pickle:"
   ]
  },
  {
   "cell_type": "code",
   "execution_count": null,
   "metadata": {},
   "outputs": [],
   "source": [
    "table_path = '/Users/benjamincollins/University/Master/Red_Cardinal/photometry/phot_tables/Photometry_Table_MIRI_v6.fits'\n",
    "\n",
    "table = Table.read(table_path, format='fits')\n",
    "galaxy_ids = np.asarray([str(gid) for gid in table['ID']])\n",
    "\n",
    "galaxy_ids = reversed(galaxy_ids)\n",
    "\n",
    "\n",
    "all_rows = []\n",
    "\n",
    "for objid in galaxy_ids:\n",
    "    print(f\"Processing galaxy ID: {objid}\")\n",
    "    galaxy_rows = compute_residuals(objid, show_plot=True)\n",
    "    if galaxy_rows is None:\n",
    "        continue\n",
    "    else:\n",
    "        all_rows.extend(galaxy_rows)  # concatenate lists\n",
    "\n",
    "df = pd.DataFrame(all_rows)\n",
    "\n",
    "os.makedirs('/Users/benjamincollins/University/Master/Red_Cardinal/prospector/analysis', exist_ok=True)\n",
    "df.to_csv('/Users/benjamincollins/University/Master/Red_Cardinal/prospector/analysis/residuals.csv', index=False)"
   ]
  },
  {
   "cell_type": "markdown",
   "metadata": {},
   "source": [
    "Now let's create the histograms"
   ]
  },
  {
   "cell_type": "code",
   "execution_count": null,
   "metadata": {},
   "outputs": [],
   "source": [
    "csv_path = '/Users/benjamincollins/University/Master/Red_Cardinal/prospector/analysis/residuals.csv'\n",
    "hist_dir = '/Users/benjamincollins/University/Master/Red_Cardinal/prospector/histograms/'\n",
    "\n",
    "create_hist(csv_path, out_dir=hist_dir)"
   ]
  },
  {
   "cell_type": "code",
   "execution_count": null,
   "metadata": {},
   "outputs": [],
   "source": [
    "npy_file = '/Users/benjamincollins/University/master/Red_Cardinal/prospector/obs/obs_12717.npy'\n",
    "obs = np.load(npy_file, allow_pickle=True).item()\n",
    "\n",
    "param_file = '/Users/benjamincollins/University/master/Red_Cardinal/prospector/params/params_MAP_12717.pkl'\n",
    "params = pkl.load(open(param_file, 'rb'))\n",
    "#print(params.keys())\n",
    "\n",
    "param_file = '/Users/benjamincollins/University/master/Red_Cardinal/prospector/spec_calib/spec_calibrated_12717.pkl'\n",
    "data = pkl.load(open(param_file, 'rb'))\n",
    "\n",
    "print(data.keys())\n",
    "print(data['emi_off']['MAP'].keys())\n",
    "\n",
    "obs_file = f'/Users/benjamincollins/University/master/Red_Cardinal/prospector/obs/obs_12717.npy'\n",
    "obs = np.load(obs_file, allow_pickle=True).item()\n",
    "print(obs.keys())\n",
    "print(len(obs['mask']))\n",
    "print(len(obs['spectrum']))\n",
    "print(len(obs['spectrum'][obs['mask']]))\n",
    "\n",
    "plt.plot(obs['wavelength'][obs['mask']], obs['spectrum'][obs['mask']], label=\"Observed spectrum\")\n",
    "#plt.plot(data['wave_obs'], data['MAP']['wave_obs'], label=\"MAP spectrum\")\n",
    "#plt.plot(data['wave_obs'], data['nodust'], label=\"No dust\", linestyle=\"--\")\n",
    "plt.plot(data['wave_obs'], data['emi_off']['MAP']['wave_obs'], label=\"No emission lines\", linestyle=\"-\")\n",
    "plt.loglog()\n",
    "plt.xlabel(\"Observed wavelength [Å]\")\n",
    "plt.ylabel(\"Flux [maggies or arbitrary units]\")\n",
    "plt.legend()\n",
    "plt.title(\"Calibrated Model Spectrum Variants\")\n",
    "plt.show()"
   ]
  }
 ],
 "metadata": {
  "kernelspec": {
   "display_name": "prospector",
   "language": "python",
   "name": "python3"
  },
  "language_info": {
   "codemirror_mode": {
    "name": "ipython",
    "version": 3
   },
   "file_extension": ".py",
   "mimetype": "text/x-python",
   "name": "python",
   "nbconvert_exporter": "python",
   "pygments_lexer": "ipython3",
   "version": "3.11.0"
  }
 },
 "nbformat": 4,
 "nbformat_minor": 2
}
