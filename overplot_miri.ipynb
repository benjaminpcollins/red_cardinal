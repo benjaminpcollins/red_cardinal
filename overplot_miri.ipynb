{
 "cells": [
  {
   "cell_type": "markdown",
   "metadata": {},
   "source": [
    "# Notebook to overplot MIRI photometry on existing PROSPECTOR fits"
   ]
  },
  {
   "cell_type": "code",
   "execution_count": null,
   "metadata": {},
   "outputs": [],
   "source": [
    "%load_ext autoreload\n",
    "%autoreload 2\n",
    "\n",
    "import os\n",
    "import glob\n",
    "import numpy as np\n",
    "import matplotlib.pyplot as plt\n",
    "import pickle as pkl\n",
    "import pandas as pd\n",
    "\n",
    "from astropy.table import Table\n",
    "from prospector_utils.plotting import *\n",
    "from prospector_utils.analysis import compute_residuals, get_galaxy_properties, get_extremes\n",
    "import prospect\n",
    "print(prospect.__file__)"
   ]
  },
  {
   "cell_type": "markdown",
   "metadata": {},
   "source": [
    "# Section to overplot MIRI"
   ]
  },
  {
   "cell_type": "markdown",
   "metadata": {},
   "source": [
    "Set the galaxy_ids array"
   ]
  },
  {
   "cell_type": "code",
   "execution_count": null,
   "metadata": {},
   "outputs": [],
   "source": [
    "table_path = '/Users/benjamincollins/University/Master/Red_Cardinal/photometry/phot_tables/Photometry_Table_MIRI_v6.fits'\n",
    "\n",
    "table = Table.read(table_path, format='fits')\n",
    "galaxy_ids = np.asarray([str(gid) for gid in table['ID']])\n",
    "\n",
    "#galaxy_ids = reversed(galaxy_ids)\n"
   ]
  },
  {
   "cell_type": "markdown",
   "metadata": {},
   "source": [
    "Reconstruct and plot the prospector outputs with MIRI"
   ]
  },
  {
   "cell_type": "code",
   "execution_count": null,
   "metadata": {},
   "outputs": [],
   "source": [
    "plot = '/Users/benjamincollins/University/master/Red_Cardinal/prospector/fits_v3/'\n",
    "plot_nodust = '/Users/benjamincollins/University/master/Red_Cardinal/prospector/fits_nodust/'\n",
    "\n",
    "stats = '/Users/benjamincollins/University/master/Red_Cardinal/prospector/pickle_files/'\n",
    "stats_nodust = '/Users/benjamincollins/University/master/Red_Cardinal/prospector/pickle_nodust/'\n",
    "\n",
    "for gid in galaxy_ids:\n",
    "    reconstruct(int(gid), stats_dir=stats)\n",
    "    #reconstruct(int(gid), plot_dir=plot_nodust, stats_dir=stats_nodust, add_duste=False)\n",
    "    \n",
    "#reconstruct(12513, plot_dir=plot_nodust, stats_dir=stats_nodust, add_duste=False)\n",
    "#reconstruct(16424, plot_dir=plot_nodust, stats_dir=stats_nodust, add_duste=False)\n",
    "#reconstruct(9871, plot_dir=plot_nodust, stats_dir=stats_nodust, add_duste=False)\n",
    "#reconstruct(17916, plot_dir=plot, stats_dir=stats)\n",
    "#reconstruct(12717, plot_dir=plot, stats_dir=stats, add_duste=True)\n",
    "#reconstruct(12717, plot_dir=plot_nodust, stats_dir=stats_nodust, add_duste=False)\n"
   ]
  },
  {
   "cell_type": "markdown",
   "metadata": {},
   "source": [
    "Section just to load pickle file and display the plot"
   ]
  },
  {
   "cell_type": "code",
   "execution_count": null,
   "metadata": {},
   "outputs": [],
   "source": [
    "table_path = '/Users/benjamincollins/University/Master/Red_Cardinal/photometry/phot_tables/Photometry_Table_MIRI_v6.fits'\n",
    "\n",
    "table = Table.read(table_path, format='fits')\n",
    "galaxy_ids = np.asarray([str(gid) for gid in table['ID']])\n",
    "\n",
    "galaxy_ids = reversed(galaxy_ids)\n",
    "\n",
    "for gid in galaxy_ids:\n",
    "    load_and_display(gid, outfile=f'/Users/benjamincollins/University/Master/Red_Cardinal/prospector/fits_v3/{gid}.png')\n",
    "#load_and_display(12717)\n",
    "#load_and_display(18769)\n",
    "#load_and_display(8465)"
   ]
  },
  {
   "cell_type": "markdown",
   "metadata": {},
   "source": [
    "Check the stored obs file in pickle:"
   ]
  },
  {
   "cell_type": "code",
   "execution_count": null,
   "metadata": {},
   "outputs": [],
   "source": [
    "table_path = '/Users/benjamincollins/University/Master/Red_Cardinal/photometry/phot_tables/Photometry_Table_MIRI_v6.fits'\n",
    "\n",
    "table = Table.read(table_path, format='fits')\n",
    "galaxy_ids = np.asarray([str(gid) for gid in table['ID']])\n",
    "\n",
    "galaxy_ids = reversed(galaxy_ids)\n",
    "\n",
    "#galaxy_ids = ['11136', '17842', '17916', '17984', '18139']\n",
    "\n",
    "# galaxy_ids = ['8465'] # undetected galaxy -> no valid photometry -> skipped in the PROSPECTOR fits - Problem solved ✅\n",
    "\n",
    "all_rows = []\n",
    "\n",
    "for objid in galaxy_ids:\n",
    "    print(f\"Processing galaxy ID: {objid}\")\n",
    "    galaxy_rows = compute_residuals(objid, show_plot=True)\n",
    "    if galaxy_rows is None:\n",
    "        continue\n",
    "    else:\n",
    "        all_rows.extend(galaxy_rows)  # concatenate lists\n",
    "\n",
    "df = pd.DataFrame(all_rows)\n",
    "\n",
    "os.makedirs('/Users/benjamincollins/University/Master/Red_Cardinal/prospector/analysis', exist_ok=True)\n",
    "df.to_csv('/Users/benjamincollins/University/Master/Red_Cardinal/prospector/analysis/residuals_abs.csv', index=False)"
   ]
  },
  {
   "cell_type": "markdown",
   "metadata": {},
   "source": [
    "Now let's create the histograms"
   ]
  },
  {
   "cell_type": "code",
   "execution_count": null,
   "metadata": {},
   "outputs": [],
   "source": [
    "csv_path = '/Users/benjamincollins/University/Master/Red_Cardinal/prospector/analysis/residuals_abs.csv'\n",
    "hist_dir = '/Users/benjamincollins/University/Master/Red_Cardinal/prospector/histograms_v2/'\n",
    "\n",
    "create_hist(csv_path, out_dir=hist_dir)"
   ]
  },
  {
   "cell_type": "markdown",
   "metadata": {},
   "source": [
    "# Section to analyse the sample"
   ]
  },
  {
   "cell_type": "markdown",
   "metadata": {},
   "source": [
    "Let's call our function to create the pickle files"
   ]
  },
  {
   "cell_type": "code",
   "execution_count": null,
   "metadata": {},
   "outputs": [],
   "source": [
    "# Read the photometry table\n",
    "phot_table = '/Users/benjamincollins/University/master/Red_Cardinal/photometry/phot_tables/Photometry_Table_MIRI.fits'\n",
    "table = Table.read(phot_table)\n",
    "\n",
    "# Convert IDs to strings if they are in bytes\n",
    "gal_ids = [id.decode() if isinstance(id, bytes) else str(id) for id in table['ID']]\n",
    "\n",
    "non_detections = {\n",
    "    'F770W': [11137, 11723, 17793, 8843, 12175, 7696, 7185, 8465, 19098, 12443, 12202, 21547, 9517, 9901, 10415, 12213, \n",
    "              21451, 11853, 11086, 22606, 18769, 9809, 11481, 21472, 19681, 12513, 21218, 12133, 16615, 10600, 11247, 20720, 17534], \n",
    "    'F1000W': [17984, 12513, 12164, 12133, 11716, 16615, 16424, 12202, 11723, 11853, 13297, 18327, 12443, 17534], \n",
    "    'F1800W': [12164, 11716, 10565, 10054, 11723, 12175, 19024, 8465, 8338, 18769, 7102, 10400, 12513, 19681, 7904, \n",
    "               10339, 12133, 10600, 9517, 10415, 11247, 12213, 11451, 7934], \n",
    "    'F2100W': [17984, 12164, 11716, 16516, 11723, 11853, 12175, 16474, 12443, 12513, 12133, 16615, 16424, 12202, \n",
    "               12332, 17517, 12014, 11247, 13297, 12213, 17916, 17534]\n",
    "    }\n",
    "\n",
    "all_galaxies = {}\n",
    "\n",
    "for gid in gal_ids:\n",
    "    gid = int(gid)\n",
    "    if gid in [12513, 18977]:\n",
    "        continue\n",
    "    galaxy_data = get_galaxy_properties(gid, non_detections=non_detections)\n",
    "    if galaxy_data: all_galaxies[gid] = galaxy_data\n",
    "\n",
    "pickle_file = '/Users/benjamincollins/University/Master/Red_Cardinal/prospector/sample_stats/sample_data.pkl'\n",
    "\n",
    "with open(pickle_file, \"wb\") as f:\n",
    "    pkl.dump(all_galaxies, f)\n",
    "    \n",
    "print(f\"✅ Successfully wrote sample summary statistics to {pickle_file}\")"
   ]
  },
  {
   "cell_type": "markdown",
   "metadata": {},
   "source": [
    "Now this is where the fun begins! Let's load our galaxy data and display them nicely!"
   ]
  },
  {
   "cell_type": "code",
   "execution_count": null,
   "metadata": {},
   "outputs": [],
   "source": [
    "# Your existing data loading code\n",
    "pickle_file = '/Users/benjamincollins/University/Master/Red_Cardinal/prospector/sample_stats/sample_data.pkl'\n",
    "with open(pickle_file, \"rb\") as f:\n",
    "    all_galaxies = pkl.load(f)\n",
    "\n",
    "print(all_galaxies[12717])\n",
    "\n",
    "# Thank god I was smart enough to store all these data hehe - next step is to colourise by Nsigma!\n",
    "fit_quality_stats = pd.read_csv('/Users/benjamincollins/University/Master/Red_Cardinal/prospector/analysis/fit_quality.csv')\n",
    "\n",
    "# Convert your dictionary into arrays for plotting\n",
    "gids = []\n",
    "zreds = []\n",
    "dust = []\n",
    "logmasses = []\n",
    "masses = []\n",
    "sfr100 = []\n",
    "ssfr = []\n",
    "ndetections = []\n",
    "detections = []\n",
    "fluxes = []\n",
    "errors = []\n",
    "bands = []\n",
    "nsigmas = []    # Array of nsigmas\n",
    "mean_nsig = []  # mean value of nsigma across all available filter\n",
    "frac_diffs = []\n",
    "mean_frac_diff = []\n",
    "chi2_red = []   # one value per galaxy\n",
    "\n",
    "for gid, g in all_galaxies.items():\n",
    "    gids.append(gid)\n",
    "    zreds.append(g['zred'])\n",
    "    dust.append(g['dust'])\n",
    "    logmasses.append(g['logmass'])\n",
    "    # Convert logmass -> Msun formed (or use a return fraction if you like)\n",
    "    masses.append(10**g['logmass'])\n",
    "    sfr100.append(g['sfr_last100'])\n",
    "    detections.append(g['detections'])\n",
    "    ndetect = sum(g['detections'].values())  # counts True in detections\n",
    "    ndetections.append(ndetect)\n",
    "    fluxes.append(g['fluxes'])\n",
    "    errors.append(g['errors'].values())\n",
    "    bands.append(g['fluxes'].keys())\n",
    "    \n",
    "    nsigmas.append(g['nsig'])\n",
    "    #mean_nsig = mean_nsig.append(np.mean(g['nsig'].values()))\n",
    "    \n",
    "    frac_diffs.append(g['frac_diff'].values())\n",
    "    #mean_frac_diff = mean_frac_diff.append(np.mean(g['frac_diff'].values()))\n",
    "    \n",
    "    chi2_red.append(g['chi2_red'])\n",
    "    \n",
    "# Convert to numpy arrays\n",
    "zreds = np.array(zreds)\n",
    "dust = np.array(dust)\n",
    "logmasses = np.array(logmasses)\n",
    "masses = np.array(masses)\n",
    "sfr100 = np.array(sfr100)\n",
    "# Calculate sSFR\n",
    "ssfr = sfr100/masses\n",
    "detections = np.array(detections)\n",
    "ndetections = np.array(ndetections)\n",
    "errors = np.array(errors)\n",
    "bands = np.array(bands)\n",
    "mean_nsig = np.array(mean_nsig)\n",
    "frac_diffs = np.array(frac_diffs)\n",
    "mean_frac_diff = np.array(mean_frac_diff)\n",
    "chi2_red = np.array(chi2_red)\n",
    "\n",
    "\n",
    "zred_ms = np.median(zreds)\n",
    "print(\"Median redshift of the sample: \", zred_ms)\n",
    "\n",
    "dust_median = np.median(dust)\n",
    "print(\"Median dust attenuation of the sample: \", dust_median)"
   ]
  },
  {
   "cell_type": "code",
   "execution_count": null,
   "metadata": {},
   "outputs": [],
   "source": [
    "# Generate all plots with publication-quality styling\n",
    "\n",
    "plot_mass_vs_redshift(zreds, logmasses, detections, gradient='absolute', color_scheme='viridis_r', save_path='/Users/benjamincollins/University/Master/Red_Cardinal/prospector/sample_plots/')\n",
    "plot_mass_vs_redshift(zreds, logmasses, detections, gradient='relative', color_scheme='YlOrBr', save_path='/Users/benjamincollins/University/Master/Red_Cardinal/prospector/sample_plots/')\n",
    "\n",
    "plot_main_sequence(masses, sfr100, zred_ms, detections, gradient='relative', color_scheme='YlOrBr', save_path='/Users/benjamincollins/University/Master/Red_Cardinal/prospector/sample_plots/')\n",
    "plot_main_sequence(masses, sfr100, zred_ms, detections, ms_type='Leja', gradient='relative', color_scheme='YlOrBr', save_path='/Users/benjamincollins/University/Master/Red_Cardinal/prospector/sample_plots/')\n",
    "\n",
    "\n",
    "plot_main_sequence(masses, sfr100, zred_ms, detections, data=fluxes, gradient='f770w', save_path='/Users/benjamincollins/University/Master/Red_Cardinal/prospector/sample_plots/')\n",
    "plot_main_sequence(masses, sfr100, zred_ms, detections, data=fluxes, gradient='f1000w', save_path='/Users/benjamincollins/University/Master/Red_Cardinal/prospector/sample_plots/')\n",
    "plot_main_sequence(masses, sfr100, zred_ms, detections, data=fluxes, gradient='f1800w', save_path='/Users/benjamincollins/University/Master/Red_Cardinal/prospector/sample_plots/')\n",
    "plot_main_sequence(masses, sfr100, zred_ms, detections, data=fluxes, gradient='f2100w', save_path='/Users/benjamincollins/University/Master/Red_Cardinal/prospector/sample_plots/')\n",
    "\n",
    "plot_main_sequence(masses, sfr100, zred_ms, detections, data=nsigmas, gradient='nsig_f770w', save_path='/Users/benjamincollins/University/Master/Red_Cardinal/prospector/sample_plots/')\n",
    "plot_main_sequence(masses, sfr100, zred_ms, detections, data=nsigmas, gradient='nsig_f1000w', save_path='/Users/benjamincollins/University/Master/Red_Cardinal/prospector/sample_plots/')\n",
    "plot_main_sequence(masses, sfr100, zred_ms, detections, data=nsigmas, gradient='nsig_f1800w', save_path='/Users/benjamincollins/University/Master/Red_Cardinal/prospector/sample_plots/')\n",
    "plot_main_sequence(masses, sfr100, zred_ms, detections, data=nsigmas, gradient='nsig_f2100w', save_path='/Users/benjamincollins/University/Master/Red_Cardinal/prospector/sample_plots/')\n",
    "\n",
    "\n",
    "\n",
    "#plot_mass_vs_redshift(zreds, logmasses, detections, data=fluxes, gradient='f770w', save_path='/Users/benjamincollins/University/Master/Red_Cardinal/prospector/sample_plots/')\n",
    "#plot_mass_vs_redshift(zreds, logmasses, detections, data=fluxes, gradient='f1000w', save_path='/Users/benjamincollins/University/Master/Red_Cardinal/prospector/sample_plots/')\n",
    "#plot_mass_vs_redshift(zreds, logmasses, detections, data=fluxes, gradient='f1800w', save_path='/Users/benjamincollins/University/Master/Red_Cardinal/prospector/sample_plots/')\n",
    "#plot_mass_vs_redshift(zreds, logmasses, detections, data=fluxes, gradient='f2100w', save_path='/Users/benjamincollins/University/Master/Red_Cardinal/prospector/sample_plots/')\n",
    "\n",
    "#plot_mass_vs_redshift(zreds, logmasses, detections, data=nsigmas, color_scheme='gnuplot2_r', gradient='nsig_f770w', save_path='/Users/benjamincollins/University/Master/Red_Cardinal/prospector/sample_plots/')\n",
    "#plot_mass_vs_redshift(zreds, logmasses, detections, data=nsigmas, color_scheme='gnuplot2_r', gradient='nsig_f1000w', save_path='/Users/benjamincollins/University/Master/Red_Cardinal/prospector/sample_plots/')\n",
    "#plot_mass_vs_redshift(zreds, logmasses, detections, data=nsigmas, color_scheme='gnuplot2_r', gradient='nsig_f1800w', save_path='/Users/benjamincollins/University/Master/Red_Cardinal/prospector/sample_plots/')\n",
    "#plot_mass_vs_redshift(zreds, logmasses, detections, data=nsigmas, color_scheme='gnuplot2_r', gradient='nsig_f2100w', save_path='/Users/benjamincollins/University/Master/Red_Cardinal/prospector/sample_plots/')\n",
    "\n",
    "#plot_mass_vs_redshift(zreds, logmasses, detections, gradient='absolute', color_scheme='viridis_r', save_path='/Users/benjamincollins/University/Master/Red_Cardinal/prospector/sample_plots/')"
   ]
  },
  {
   "cell_type": "markdown",
   "metadata": {},
   "source": [
    "Check items in the photometry table"
   ]
  },
  {
   "cell_type": "code",
   "execution_count": null,
   "metadata": {},
   "outputs": [],
   "source": [
    "from astropy.io import fits\n",
    "phot_table = \"/Users/benjamincollins/University/Master/Red_Cardinal/photometry/phot_tables/Photometry_Table_MIRI.fits\"\n",
    "table = fits.open(phot_table)\n",
    "print(table[1].data)"
   ]
  },
  {
   "cell_type": "markdown",
   "metadata": {},
   "source": [
    "Now let's focus on the F1800W and F2100W bands and produce the last set of plots for my thesis contrasting N_${\\sigma}$ with the SFR and dust attenuation"
   ]
  },
  {
   "cell_type": "code",
   "execution_count": null,
   "metadata": {},
   "outputs": [],
   "source": [
    "# Extract nsigma arrays for the bands you care about\n",
    "nsig_F1800W = np.array([g['nsig']['F1800W'] if 'F1800W' in g['nsig'] else np.nan \n",
    "                        for g in all_galaxies.values()])\n",
    "nsig_F2100W = np.array([g['nsig']['F2100W'] if 'F2100W' in g['nsig'] else np.nan \n",
    "                        for g in all_galaxies.values()])\n",
    "\n",
    "# Convert to log sSFR (common in the literature, avoids huge ranges)\n",
    "log_ssfr = np.log10(sfr100 / masses)\n",
    "\n",
    "# Make the plots\n",
    "plot_nsigma_vs_params(nsig_F1800W, \"F1800W\", log_ssfr, dust, save_path='/Users/benjamincollins/University/Master/Red_Cardinal/prospector/sample_plots/nsigma_f1800w.png')\n",
    "plot_nsigma_vs_params(nsig_F2100W, \"F2100W\", log_ssfr, dust, save_path='/Users/benjamincollins/University/Master/Red_Cardinal/prospector/sample_plots/nsigma_f2100w.png')\n"
   ]
  },
  {
   "cell_type": "markdown",
   "metadata": {},
   "source": [
    "Let's have a look at the outliers!"
   ]
  },
  {
   "cell_type": "code",
   "execution_count": null,
   "metadata": {},
   "outputs": [],
   "source": [
    "\n",
    "# --- F1800W extremes with NaN filtering ---\n",
    "mask_1800 = ~np.isnan(nsig_F1800W)\n",
    "if np.any(mask_1800):\n",
    "    idx_max_1800 = np.nanargmax(np.abs(nsig_F1800W))\n",
    "    idx_min_1800 = np.nanargmin(np.abs(nsig_F1800W))\n",
    "    print(\"Max N_sigma in F1800W:\", gids[idx_max_1800], nsig_F1800W[idx_max_1800])\n",
    "    print(\"Min N_sigma in F1800W:\", gids[idx_min_1800], nsig_F1800W[idx_min_1800])\n",
    "else:\n",
    "    print(\"All values in F1800W are NaN!\")\n",
    "\n",
    "# --- F2100W extremes ---\n",
    "mask_2100 = ~np.isnan(nsig_F2100W)\n",
    "if np.any(mask_2100):\n",
    "    idx_max_2100 = np.nanargmax(np.abs(nsig_F2100W))\n",
    "    idx_min_2100 = np.nanargmin(np.abs(nsig_F2100W))\n",
    "    print(\"Max N_sigma in F2100W:\", gids[idx_max_2100], nsig_F2100W[idx_max_2100])\n",
    "    print(\"Min N_sigma in F2100W:\", gids[idx_min_2100], nsig_F2100W[idx_min_2100])\n",
    "\n",
    "# --- Dust extremes ---\n",
    "if np.any(dust):\n",
    "    idx_max_dust = np.nanargmax(dust)\n",
    "    idx_min_dust = np.nanargmin(dust)\n",
    "    print(\"Max A_V (dust):\", gids[idx_max_dust], dust[idx_max_dust])\n",
    "    print(\"Min A_V (dust):\", gids[idx_min_dust], dust[idx_min_dust])\n"
   ]
  },
  {
   "cell_type": "code",
   "execution_count": null,
   "metadata": {},
   "outputs": [],
   "source": [
    "extremes_f1800w = get_extremes(nsig_F1800W, gids, n=3, abs=True)\n",
    "print(\"Lowest N_sigma in F1800W:\", extremes_f1800w[\"lowest\"])\n",
    "print(\"Highest N_sigma in F1800W:\", extremes_f1800w[\"highest\"])\n",
    "print()\n",
    "\n",
    "extremes_f2100w = get_extremes(nsig_F2100W, gids, n=3, abs=True)\n",
    "print(\"Lowest N_sigma in F2100W:\", extremes_f2100w[\"lowest\"])\n",
    "print(\"Highest N_sigma in F2100W:\", extremes_f2100w[\"highest\"])\n",
    "print()\n",
    "\n",
    "extremes_dust = get_extremes(dust, gids, n=3)\n",
    "print(\"Lowest dust:\", extremes_dust[\"lowest\"])\n",
    "print(\"Highest dust:\", extremes_dust[\"highest\"])\n",
    "print()\n",
    "\n",
    "extremes_ssfr = get_extremes(ssfr, gids, n=3)\n",
    "print(\"Lowest sSFR:\", extremes_ssfr[\"lowest\"])\n",
    "print(\"Highest sSFR:\", extremes_ssfr[\"highest\"])\n",
    "print()\n",
    "\n",
    "def collect_all_extreme_ids(*extremes_dicts):\n",
    "    ids = []\n",
    "    for d in extremes_dicts:\n",
    "        #for key in (\"lowest\", \"highest\"):\n",
    "        ids.extend([gid for gid, _ in d[\"highest\"]])\n",
    "    return list(set(ids))  # unique IDs\n",
    "\n"
   ]
  },
  {
   "cell_type": "markdown",
   "metadata": {},
   "source": [
    "The extreme ends of the N_sigma distribution:"
   ]
  },
  {
   "cell_type": "code",
   "execution_count": null,
   "metadata": {},
   "outputs": [],
   "source": [
    "base_paths = {\n",
    "    \"miri\": \"/Users/benjamincollins/University/Master/Red_Cardinal/photometry/vis_data\",\n",
    "    \"nircam\": \"/Users/benjamincollins/University/Master/Red_Cardinal/NIRCam/F444W_cutouts\",\n",
    "    \"prospector\": \"/Users/benjamincollins/University/Master/Red_Cardinal/prospector/fits_v3\"\n",
    "}\n",
    "\n",
    "extreme_ids = collect_all_extreme_ids(\n",
    "    extremes_f1800w,\n",
    "    extremes_f2100w\n",
    ")\n",
    "\n",
    "print(\"Total unique extreme galaxy IDs:\", len(extreme_ids))\n",
    "print(extreme_ids)"
   ]
  },
  {
   "cell_type": "code",
   "execution_count": null,
   "metadata": {},
   "outputs": [],
   "source": [
    "\n",
    "for gid in extreme_ids:   # from collect_all_extreme_ids()\n",
    "    plot_extremes(gid, base_paths, add_fit=True, save_path=f\"/Users/benjamincollins/University/Master/Red_Cardinal/prospector/fits_ext/{gid}_high_nsigma.png\")\n",
    "    plot_extremes(gid, base_paths, add_fit=False, save_path=f\"/Users/benjamincollins/University/Master/Red_Cardinal/prospector/fits_ext/{gid}_high_nsigma_nofit.png\")\n",
    "\n"
   ]
  },
  {
   "cell_type": "code",
   "execution_count": null,
   "metadata": {},
   "outputs": [],
   "source": [
    "plot_extremes(11723, base_paths, add_fit=False, save_path=f\"/Users/benjamincollins/University/Master/Red_Cardinal/prospector/fits_ext/11723_high_nsigma_nofit.png\")\n"
   ]
  },
  {
   "cell_type": "markdown",
   "metadata": {},
   "source": [
    "Now let's have a look at our dusty galaxies"
   ]
  },
  {
   "cell_type": "code",
   "execution_count": null,
   "metadata": {},
   "outputs": [],
   "source": [
    "def collect_all_extreme_ids(key, *extremes_dicts):\n",
    "    ids = []\n",
    "    for d in extremes_dicts:\n",
    "        ids.extend([gid for gid, _ in d[key]])\n",
    "    return list(set(ids))  # unique IDs\n",
    "\n",
    "extreme_ids = collect_all_extreme_ids(\n",
    "    \"lowest\", extremes_dust\n",
    ")\n",
    "\n",
    "for gid in extreme_ids:   # from collect_all_extreme_ids()\n",
    "    plot_extremes(gid, base_paths, add_fit=True, save_path=f\"/Users/benjamincollins/University/Master/Red_Cardinal/prospector/fits_ext/{gid}_low_dust.png\")\n",
    "    plot_extremes(gid, base_paths, add_fit=False, save_path=f\"/Users/benjamincollins/University/Master/Red_Cardinal/prospector/fits_ext/{gid}_low_dust_nofit.png\")\n",
    "\n",
    "extreme_ids = collect_all_extreme_ids(\n",
    "    \"highest\", extremes_dust\n",
    ")\n",
    "\n",
    "for gid in extreme_ids:   # from collect_all_extreme_ids()\n",
    "    plot_extremes(gid, base_paths, add_fit=True, save_path=f\"/Users/benjamincollins/University/Master/Red_Cardinal/prospector/fits_ext/{gid}_high_dust.png\")\n",
    "    plot_extremes(gid, base_paths, add_fit=False, save_path=f\"/Users/benjamincollins/University/Master/Red_Cardinal/prospector/fits_ext/{gid}_high_dust_nofit.png\")\n"
   ]
  },
  {
   "cell_type": "markdown",
   "metadata": {},
   "source": [
    "Now we check out the sSFR extremes!"
   ]
  },
  {
   "cell_type": "code",
   "execution_count": null,
   "metadata": {},
   "outputs": [],
   "source": [
    "def collect_all_extreme_ids(key, *extremes_dicts):\n",
    "    ids = []\n",
    "    for d in extremes_dicts:\n",
    "        ids.extend([gid for gid, _ in d[key]])\n",
    "    return list(set(ids))  # unique IDs\n",
    "\n",
    "extreme_ids = collect_all_extreme_ids(\n",
    "    \"lowest\", extremes_ssfr\n",
    ")\n",
    "\n",
    "for gid in extreme_ids:   # from collect_all_extreme_ids()\n",
    "    plot_extremes(gid, base_paths, add_fit=True, save_path=f\"/Users/benjamincollins/University/Master/Red_Cardinal/prospector/fits_ext/{gid}_low_ssfr.png\")\n",
    "    plot_extremes(gid, base_paths, add_fit=False, save_path=f\"/Users/benjamincollins/University/Master/Red_Cardinal/prospector/fits_ext/{gid}_low_ssfr_nofit.png\")\n",
    "\n",
    "extreme_ids = collect_all_extreme_ids(\n",
    "    \"highest\", extremes_ssfr\n",
    ")\n",
    "\n",
    "for gid in extreme_ids:   # from collect_all_extreme_ids()\n",
    "    plot_extremes(gid, base_paths, add_fit=True, save_path=f\"/Users/benjamincollins/University/Master/Red_Cardinal/prospector/fits_ext/{gid}_high_ssfr.png\")\n",
    "    plot_extremes(gid, base_paths, add_fit=False, save_path=f\"/Users/benjamincollins/University/Master/Red_Cardinal/prospector/fits_ext/{gid}_high_ssfr_nofit.png\")\n"
   ]
  }
 ],
 "metadata": {
  "kernelspec": {
   "display_name": "prospector",
   "language": "python",
   "name": "python3"
  },
  "language_info": {
   "codemirror_mode": {
    "name": "ipython",
    "version": 3
   },
   "file_extension": ".py",
   "mimetype": "text/x-python",
   "name": "python",
   "nbconvert_exporter": "python",
   "pygments_lexer": "ipython3",
   "version": "3.11.0"
  }
 },
 "nbformat": 4,
 "nbformat_minor": 2
}
