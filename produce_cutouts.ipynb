{
 "cells": [
  {
   "cell_type": "markdown",
   "metadata": {},
   "source": [
    "# Code to produce the cutouts for the MIRI data\n",
    "\n",
    "Let's start with the imports"
   ]
  },
  {
   "cell_type": "code",
   "execution_count": null,
   "metadata": {},
   "outputs": [],
   "source": [
    "%load_ext autoreload\n",
    "%autoreload 2\n",
    "\n",
    "import os\n",
    "from miri_utils.cutout_tools import produce_cutouts"
   ]
  },
  {
   "cell_type": "markdown",
   "metadata": {},
   "source": [
    "\n",
    "Let's look at the NIRCam documentation:\n",
    "\n",
    "So we find that in the short filters we have 0.031\"/pix and Amir used 167 x 167 pixels, which means he is using an image size of 5.177\" for each cutout. We also know that the total FOV is around 63.74\" x 63.74\". Now we need to translate this to MIRI:\n",
    "\n",
    "So taking this conversion of pixels to angular resolution we find that MIRI pixels are on average about 3.5 times larger than NIRCam pixels, so we just need to divide 167 by 3.55, which leaves us with ~48 pixels in MIRI.\n",
    "\n"
   ]
  },
  {
   "cell_type": "markdown",
   "metadata": {},
   "source": [
    "# Produce cutouts while preserving all other layers (in the same patch of the sky)"
   ]
  },
  {
   "cell_type": "markdown",
   "metadata": {},
   "source": [
    "# Create cutouts of the unmodified FITS files"
   ]
  },
  {
   "cell_type": "markdown",
   "metadata": {},
   "source": [
    "Shifted data:\n",
    "\n",
    "For the photometry we actually wanna use 8x8 arcsec cutouts for better noise statistics so that we increase the number of pixels from 48x48 to 74x74"
   ]
  },
  {
   "cell_type": "code",
   "execution_count": null,
   "metadata": {},
   "outputs": [],
   "source": [
    "# Define directories\n",
    "primer003 = '/home/bpc/University/master/Red_Cardinal/MIRI_shifted/PRIMER_003_shifted/'\n",
    "primer004 = '/home/bpc/University/master/Red_Cardinal/MIRI_shifted/PRIMER_004_shifted/'\n",
    "\n",
    "cweb1 = '/home/bpc/University/master/Red_Cardinal/MIRI_shifted/COSMOS-Web_1_shifted/'\n",
    "cweb2 = '/home/bpc/University/master/Red_Cardinal/MIRI_shifted/COSMOS-Web_2_shifted/'\n",
    "\n",
    "cosmos3d_1 = '/home/bpc/University/master/Red_Cardinal/COSMOS-3D/COSMOS-3D_1'\n",
    "cosmos3d_2 = '/home/bpc/University/master/Red_Cardinal/COSMOS-3D/COSMOS-3D_2'\n",
    "\n",
    "catalogue =  '/home/bpc/University/master/Red_Cardinal/catalogues/cat_targets.fits'\n",
    "\n",
    "output_dir = '/home/bpc/University/master/Red_Cardinal/cutouts_phot/'\n",
    "os.makedirs(output_dir, exist_ok=True)\n",
    "\n",
    "# Produce cutouts for all surveys\n",
    "#produce_cutouts(catalogue, primer003, output_dir, 'primer', 8, 'F770W', '003', nan_thresh=0.5)\n",
    "#produce_cutouts(catalogue, primer003, output_dir, 'primer', 8, 'F1800W', '003', nan_thresh=0.5)\n",
    "\n",
    "#produce_cutouts(catalogue, primer004, output_dir, 'primer', 8, 'F770W', '004', nan_thresh=0.5)\n",
    "#produce_cutouts(catalogue, primer004, output_dir, 'primer', 8, 'F1800W', '004', nan_thresh=0.5)\n",
    "\n",
    "#produce_cutouts(catalogue, cweb1, output_dir, 'cweb', 8, 'F770W', '1', nan_thresh=0.5)\n",
    "#produce_cutouts(catalogue, cweb2, output_dir, 'cweb', 8, 'F770W', '2', nan_thresh=0.5)\n",
    "\n",
    "produce_cutouts(catalogue, cosmos3d_1, output_dir, 'cos3d', 8, 'F1000W', '1', nan_thresh=0.5)\n",
    "produce_cutouts(catalogue, cosmos3d_1, output_dir, 'cos3d', 8, 'F2100W', '1', nan_thresh=0.5)\n",
    "produce_cutouts(catalogue, cosmos3d_2, output_dir, 'cos3d', 8, 'F1000W', '2', nan_thresh=0.5)\n",
    "produce_cutouts(catalogue, cosmos3d_2, output_dir, 'cos3d', 8, 'F2100W', '2', nan_thresh=0.5)\n"
   ]
  },
  {
   "cell_type": "markdown",
   "metadata": {},
   "source": [
    "# Rotated data"
   ]
  },
  {
   "cell_type": "code",
   "execution_count": null,
   "metadata": {},
   "outputs": [],
   "source": [
    "# Define directories\n",
    "cos3d1_rot = '/home/bpc/University/master/Red_Cardinal/COSMOS-3D/COSMOS-3D_1_rot'\n",
    "cos3d2_rot = '/home/bpc/University/master/Red_Cardinal/COSMOS-3D/COSMOS-3D_2_rot'\n",
    "\n",
    "catalogue =  '/home/bpc/University/master/Red_Cardinal/catalogues/cat_targets.fits'\n",
    "\n",
    "output_dir = '/home/bpc/University/master/Red_Cardinal/cutouts_3x3/'\n",
    "os.makedirs(output_dir, exist_ok=True)\n",
    "\n",
    "produce_cutouts(catalogue, cos3d1_rot, output_dir, 'cos3d', 3, 'F1000W', nan_thresh=0.4)\n",
    "produce_cutouts(catalogue, cos3d1_rot, output_dir, 'cos3d', 3, 'F2100W', nan_thresh=0.4)\n",
    "produce_cutouts(catalogue, cos3d2_rot, output_dir, 'cos3d', 3, 'F1000W', nan_thresh=0.4)\n",
    "produce_cutouts(catalogue, cos3d2_rot, output_dir, 'cos3d', 3, 'F2100W', nan_thresh=0.4)\n"
   ]
  }
 ],
 "metadata": {
  "kernelspec": {
   "display_name": "myenv",
   "language": "python",
   "name": "python3"
  },
  "language_info": {
   "codemirror_mode": {
    "name": "ipython",
    "version": 3
   },
   "file_extension": ".py",
   "mimetype": "text/x-python",
   "name": "python",
   "nbconvert_exporter": "python",
   "pygments_lexer": "ipython3",
   "version": "3.12.3"
  }
 },
 "nbformat": 4,
 "nbformat_minor": 2
}
