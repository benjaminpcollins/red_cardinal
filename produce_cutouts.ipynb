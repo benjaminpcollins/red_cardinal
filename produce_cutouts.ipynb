{
 "cells": [
  {
   "cell_type": "markdown",
   "metadata": {},
   "source": [
    "# Code to produce the cutouts for the MIRI data\n",
    "\n",
    "Let's start with the imports"
   ]
  },
  {
   "cell_type": "code",
   "execution_count": null,
   "metadata": {},
   "outputs": [],
   "source": [
    "from astropy.io import fits\n",
    "from astropy.coordinates import SkyCoord\n",
    "from astropy.wcs import WCS, FITSFixedWarning\n",
    "from astropy.nddata import Cutout2D\n",
    "import astropy.units as u\n",
    "import matplotlib.pyplot as plt\n",
    "import numpy as np\n",
    "import os\n",
    "import glob\n",
    "import warnings\n",
    "from scipy.ndimage import zoom\n",
    "\n",
    "warnings.simplefilter(\"ignore\", category=FITSFixedWarning)\n"
   ]
  },
  {
   "cell_type": "markdown",
   "metadata": {},
   "source": [
    "\n",
    "Let's look at the NIRCam documentation:\n",
    "\n",
    "So we find that in the short filters we have 0.031\"/pix and Amir used 167 x 167 pixels, which means he is using an image size of 5.177\" for each cutout. We also know that the total FOV is around 63.74\" x 63.74\". Now we need to translate this to MIRI:\n",
    "\n",
    "So taking this conversion of pixels to angular resolution we find that MIRI pixels are on average about 3.5 times larger than NIRCam pixels, so we just need to divide 167 by 3.55, which leaves us with ~48 pixels in MIRI.\n",
    "\n"
   ]
  },
  {
   "cell_type": "markdown",
   "metadata": {},
   "source": [
    "# Define function to produce cutouts automatically"
   ]
  },
  {
   "cell_type": "markdown",
   "metadata": {},
   "source": [
    "# Produce cutouts while preserving all other layers (in the same patch of the sky)"
   ]
  },
  {
   "cell_type": "code",
   "execution_count": null,
   "metadata": {},
   "outputs": [],
   "source": [
    "def produce_cutouts_for_photometry(cat, indir, output_dir, survey, x_pixels, filter, obs=\"\", nan_thresh=0.4, suffix=''):\n",
    "    \"\"\"Produces cutouts for all image extensions in the FITS file, preserving each layer.\"\"\"\n",
    "\n",
    "    # Load target catalogue\n",
    "    with fits.open(cat) as catalog_hdul:\n",
    "        cat_data = catalog_hdul[1].data\n",
    "        ids = cat_data['id']\n",
    "        ra = cat_data['ra']\n",
    "        dec = cat_data['dec']  \n",
    "\n",
    "    filter_l = filter.lower()\n",
    "    fits_files = glob.glob(os.path.join(indir, f\"*{filter_l}*.fits\"))\n",
    "    print(f\"Found {len(fits_files)} FITS files from the {survey} survey with filter {filter}.\")\n",
    "    print(\"Processing:\")\n",
    "    for f in fits_files:\n",
    "        print(f\"{f}\")\n",
    "\n",
    "    os.makedirs(output_dir, exist_ok=True)\n",
    "    print(f\"Files will be saved to {output_dir}.\")\n",
    "    \n",
    "    counts = 0\n",
    "    total = len(ra)\n",
    "    cutout_size = (x_pixels, x_pixels)\n",
    "\n",
    "    for fits_file in fits_files:\n",
    "        with fits.open(fits_file) as hdul:\n",
    "            # Assume extension 1 contains the WCS for the cutout reference\n",
    "            ref_data = hdul[1].data\n",
    "            ref_header = hdul[1].header\n",
    "            ref_wcs = WCS(ref_header)\n",
    "\n",
    "            # Loop over galaxies\n",
    "            for i in range(total):\n",
    "                target_coord = SkyCoord(ra[i], dec[i], unit=(u.deg, u.deg))\n",
    "\n",
    "                # Check if inside the field of view\n",
    "                try:\n",
    "                    x, y = ref_wcs.world_to_pixel(target_coord)\n",
    "                except Exception:\n",
    "                    continue\n",
    "\n",
    "                if not (0 <= x < ref_data.shape[1] and 0 <= y < ref_data.shape[0]):\n",
    "                    continue\n",
    "\n",
    "                cutout_hdul = fits.HDUList()\n",
    "                cutout_hdul.append(fits.PrimaryHDU(header=hdul[0].header))\n",
    "\n",
    "                valid_cutout = True\n",
    "                max_nan_ratio = 0.0\n",
    "\n",
    "                for ext in range(1, len(hdul)):\n",
    "                    hdu = hdul[ext]\n",
    "                    if hdu.data is None or hdu.data.ndim != 2:\n",
    "                        continue  # Skip non-image or 1D extensions\n",
    "\n",
    "                    # WCS can vary by extension\n",
    "                    try:\n",
    "                        wcs = WCS(hdu.header)\n",
    "                        cutout = Cutout2D(hdu.data, target_coord, cutout_size, wcs=wcs, mode=\"partial\")\n",
    "                        cutout_header = cutout.wcs.to_header()\n",
    "                    except Exception:\n",
    "                        # If WCS fails, just use the same pixel cutout\n",
    "                        cutout = Cutout2D(hdu.data, (x, y), cutout_size, mode=\"partial\")\n",
    "                        cutout_header = hdu.header.copy()\n",
    "\n",
    "                    nan_ratio = np.isnan(cutout.data).sum() / cutout.data.size\n",
    "                    max_nan_ratio = max(max_nan_ratio, nan_ratio)\n",
    "\n",
    "                    cutout_hdu = fits.ImageHDU(data=cutout.data, header=cutout_header)\n",
    "                    cutout_hdul.append(cutout_hdu)\n",
    "\n",
    "                if max_nan_ratio < nan_thresh and len(cutout_hdul) > 1:\n",
    "                    # Save PNG preview from extension 1\n",
    "                    preview_data = cutout_hdul[1].data\n",
    "                    plt.figure(figsize=(6, 6))\n",
    "                    plt.imshow(preview_data, origin=\"lower\", cmap=\"gray\")\n",
    "                    plt.colorbar()\n",
    "                    plt.title(f'{survey}: {ids[i]} at {filter}')\n",
    "                    png_filename = os.path.join(output_dir, f\"{ids[i]}_{filter}_cutout_{survey}{obs}{suffix}.png\")\n",
    "                    plt.savefig(png_filename)\n",
    "                    plt.close()\n",
    "\n",
    "                    # Save multi-extension FITS cutout\n",
    "                    fits_filename = os.path.join(output_dir, f\"{ids[i]}_{filter}_cutout_{survey}{obs}{suffix}.fits\")\n",
    "                    cutout_hdul.writeto(fits_filename, overwrite=True)\n",
    "                    counts += 1\n",
    "\n",
    "    print(f\"Produced cutouts for {counts} of {total} galaxies in the catalogue.\")\n"
   ]
  },
  {
   "cell_type": "markdown",
   "metadata": {},
   "source": [
    "# Create cutouts of the unmodified FITS files"
   ]
  },
  {
   "cell_type": "markdown",
   "metadata": {},
   "source": [
    "Shifted data:\n",
    "\n",
    "For the photometry we actually wanna use 8x8 arcsec cutouts for better noise statistics so that we increase the number of pixels from 48x48 to 74x74"
   ]
  },
  {
   "cell_type": "code",
   "execution_count": null,
   "metadata": {},
   "outputs": [],
   "source": [
    "# Define directories\n",
    "primer003 =  '/home/bpc/University/master/Red_Cardinal/MIRI/PRIMER_003/'\n",
    "primer004 =  '/home/bpc/University/master/Red_Cardinal/MIRI/PRIMER_004/'\n",
    "cweb1 =   '/home/bpc/University/master/Red_Cardinal/MIRI/COSMOS-Web_1/'\n",
    "cweb2 =   '/home/bpc/University/master/Red_Cardinal/MIRI/COSMOS-Web_2/'\n",
    "\n",
    "catalogue =  '/home/bpc/University/master/Red_Cardinal/cat_targets.fits'\n",
    "\n",
    "output_dir = '/home/bpc/University/master/Red_Cardinal/cutouts/'\n",
    "\n",
    "# Produce cutouts for all surveys8700\n",
    "produce_cutouts_for_photometry(catalogue, primer003, output_dir, 'primer', 74, 'F770W', '003', nan_thresh=0.5)\n",
    "produce_cutouts_for_photometry(catalogue, primer003, output_dir, 'primer', 74, 'F1800W', '003', nan_thresh=0.5)\n",
    "\n",
    "produce_cutouts_for_photometry(catalogue, primer004, output_dir, 'primer', 74, 'F770W', '004', nan_thresh=0.5)\n",
    "produce_cutouts_for_photometry(catalogue, primer004, output_dir, 'primer', 74, 'F1800W', '004', nan_thresh=0.5)\n",
    "\n",
    "produce_cutouts_for_photometry(catalogue, cweb1, output_dir, 'cweb', 74, 'F770W', '1', nan_thresh=0.5)\n",
    "produce_cutouts_for_photometry(catalogue, cweb2, output_dir, 'cweb', 74, 'F770W', '2', nan_thresh=0.5)\n"
   ]
  }
 ],
 "metadata": {
  "kernelspec": {
   "display_name": "myenv",
   "language": "python",
   "name": "python3"
  },
  "language_info": {
   "codemirror_mode": {
    "name": "ipython",
    "version": 3
   },
   "file_extension": ".py",
   "mimetype": "text/x-python",
   "name": "python",
   "nbconvert_exporter": "python",
   "pygments_lexer": "ipython3",
   "version": "3.12.3"
  }
 },
 "nbformat": 4,
 "nbformat_minor": 2
}
