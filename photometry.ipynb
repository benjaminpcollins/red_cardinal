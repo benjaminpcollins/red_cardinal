{
 "cells": [
  {
   "cell_type": "markdown",
   "metadata": {},
   "source": [
    "## Photometry on MIRI images"
   ]
  },
  {
   "cell_type": "code",
   "execution_count": null,
   "metadata": {},
   "outputs": [],
   "source": [
    "%load_ext autoreload\n",
    "%autoreload 2\n",
    "\n",
    "import os\n",
    "import glob\n",
    "import numpy as np\n",
    "import pandas as pd\n",
    "import matplotlib.pyplot as plt\n",
    "import warnings\n",
    "import subprocess\n",
    "import miri_utils.photometry as phot\n",
    "\n",
    "from astropy.io import fits\n",
    "from astropy.wcs import FITSFixedWarning\n",
    "from astropy.table import Table\n",
    "\n",
    "warnings.simplefilter(\"ignore\", category=FITSFixedWarning)\n",
    "\n",
    "\n",
    "cutout_dir = \"/home/bpc/University/master/Red_Cardinal/cutouts_phot/\"\n",
    "phot_dir = \"/home/bpc/University/master/Red_Cardinal/photometry/\"\n"
   ]
  },
  {
   "cell_type": "markdown",
   "metadata": {},
   "source": [
    "# Section to obtain modified apertures"
   ]
  },
  {
   "cell_type": "markdown",
   "metadata": {},
   "source": [
    "Let's inspect Amirs table:"
   ]
  },
  {
   "cell_type": "code",
   "execution_count": null,
   "metadata": {},
   "outputs": [],
   "source": [
    "table_path =  '/home/bpc/University/master/Red_Cardinal/Flux_Aperture_PSFMatched_AperCorr_old.fits'\n",
    "\n",
    "table = Table.read(table_path)\n",
    "#print(table[:5])\n",
    "table.info()\n",
    "print(table.columns)"
   ]
  },
  {
   "cell_type": "markdown",
   "metadata": {},
   "source": [
    "Now let's try and call the function:"
   ]
  },
  {
   "cell_type": "code",
   "execution_count": null,
   "metadata": {},
   "outputs": [],
   "source": [
    "cutout_dir = \"/home/bpc/University/master/Red_Cardinal/cutouts_phot/\"\n",
    "phot_dir = \"/home/bpc/University/master/Red_Cardinal/photometry/\"\n",
    "\n",
    "# Get all FITS file paths\n",
    "fits_files = glob.glob(os.path.join(cutout_dir, '*.fits'))\n",
    "\n",
    "# Get the basenames of the FITS files\n",
    "fits_fnames = [os.path.basename(f) for f in fits_files]\n",
    "\n",
    "adjusted_apertures = []\n",
    "\n",
    "for fname in fits_fnames:\n",
    "    id = fname.split('_')[0]\n",
    "    filter = fname.split('_')[1]\n",
    "    if filter == 'F1800W': continue\n",
    "    survey_obs = fname.split('_')[3]\n",
    "    if '003' in survey_obs:\n",
    "        survey = 'primer'\n",
    "        obs = '003'\n",
    "    elif '004' in survey_obs:\n",
    "        survey = 'primer'\n",
    "        obs = '004'\n",
    "    elif '1' in survey_obs:\n",
    "        survey = 'cweb'\n",
    "        obs = '1'\n",
    "    elif '2' in survey_obs:\n",
    "        survey = 'cweb'\n",
    "        obs = '2'\n",
    "    else:\n",
    "        print(f\"Unknown survey and/or observation number for galaxy {id}:\\n\")\n",
    "        print(survey_obs)\n",
    "    \n",
    "    # Call and collect results\n",
    "    result = phot.adjust_aperture(id, filter, survey, obs, phot_dir, save_plot=False)\n",
    "    if result:\n",
    "        adjusted_apertures.append(result)\n",
    "\n",
    "# After loop: create a DataFrame\n",
    "df_apertures = pd.DataFrame(adjusted_apertures)\n",
    "\n",
    "df_path = '/home/bpc/University/master/Red_Cardinal/photometry/aperture_table_v2.csv'\n",
    "\n",
    "# (optional) Save to CSV or integrate into photometry table\n",
    "df_apertures.to_csv(df_path, index=False)"
   ]
  },
  {
   "cell_type": "markdown",
   "metadata": {},
   "source": [
    "Now we can easily open any given FITS file with its corresponding ellipse region"
   ]
  },
  {
   "cell_type": "code",
   "execution_count": null,
   "metadata": {},
   "outputs": [],
   "source": [
    "# --- Launch DS9 with the MIRI cutout and the overplotted aperture ---\n",
    "region_dir = \"/home/bpc/University/master/Red_Cardinal/photometry/regions/\"\n",
    "cutout_dir = \"/home/bpc/University/master/Red_Cardinal/cutouts_phot/\"\n",
    "phot_dir = \"/home/bpc/University/master/Red_Cardinal/photometry/\"\n",
    "\n",
    "id = '10245'\n",
    "filter = 'F770W'\n",
    "survey_obs = 'primer004'\n",
    "cutout_path = os.path.join(cutout_dir, f'{id}_{filter}_cutout_{survey_obs}.fits')\n",
    "reg_path = os.path.join(region_dir, f'{id}_{survey_obs}_aperture.reg')\n",
    "subprocess.run([\"ds9\", cutout_path, \"-regions\", reg_path])\n"
   ]
  },
  {
   "cell_type": "markdown",
   "metadata": {},
   "source": [
    "Let's check the table:"
   ]
  },
  {
   "cell_type": "code",
   "execution_count": null,
   "metadata": {},
   "outputs": [],
   "source": [
    "table_path =  '/home/bpc/University/master/Red_Cardinal/Flux_Aperture_PSFMatched_AperCorr_old.fits'\n",
    "\n",
    "table = Table.read(table_path)\n",
    "print(table[:5])\n",
    "table.info()\n",
    "print(table['Image_Err'].shape)"
   ]
  },
  {
   "cell_type": "markdown",
   "metadata": {},
   "source": [
    "# This is where we do most of the work\n",
    "\n",
    "# Section to perform the actual photometry"
   ]
  },
  {
   "cell_type": "markdown",
   "metadata": {},
   "source": [
    "First, let's set some parameters straight:\n",
    "\n",
    "pixscale_arcsec = 0.11092  # arcsec per pixel\n",
    "\n",
    "pix_area_sr = 2.89208962133982e-13  # from MIRI header\n"
   ]
  },
  {
   "cell_type": "markdown",
   "metadata": {},
   "source": [
    "In case the code should be tested"
   ]
  },
  {
   "cell_type": "code",
   "execution_count": null,
   "metadata": {},
   "outputs": [],
   "source": [
    "test_ids = ['8465', '7922', '9871', '12202', '8843', '7904', '8338', '10021', '10245', '11136', '12340', '20397']"
   ]
  },
  {
   "cell_type": "code",
   "execution_count": null,
   "metadata": {},
   "outputs": [],
   "source": [
    "# --- Parameters ---\n",
    "cutouts_folder = \"/home/bpc/University/master/Red_Cardinal/cutouts_phot/\"\n",
    "output_folder = '/home/bpc/University/master/Red_Cardinal/photometry/'\n",
    "aperture_table = '/home/bpc/University/master/Red_Cardinal/photometry/aperture_table.csv'\n",
    "fig_path = '/home/bpc/University/master/Red_Cardinal/photometry/Plots_MIRI_phot_v3/'\n",
    "os.makedirs(output_folder, exist_ok=True)\n",
    "\n",
    "# Get all possible F770W files\n",
    "all_f770w_files = glob.glob(os.path.join(cutouts_folder, f'*F770W*.fits'))\n",
    "\n",
    "# Group F770W files by galaxy ID and filter\n",
    "f770w_files = []\n",
    "galaxy_ids = set([os.path.basename(f).split('_')[0] for f in all_f770w_files])\n",
    "\n",
    "for galaxy_id in galaxy_ids:\n",
    "    # Find all F770W files for this galaxy ID\n",
    "    matching_files = [f for f in all_f770w_files if os.path.basename(f).startswith(galaxy_id)]\n",
    "    \n",
    "    # Handle special case for galaxy 11853\n",
    "    if galaxy_id == '11853':\n",
    "        # Use the cweb2 file if available\n",
    "        cweb2_files = [f for f in matching_files if 'cweb2' in f.lower()]\n",
    "        if cweb2_files:\n",
    "            f770w_files.append(cweb2_files[0])\n",
    "            continue  # Skip to the next galaxy\n",
    "    \n",
    "    # Prioritise PRIMER over COSMOS-Web\n",
    "    primer_files = [f for f in matching_files if 'primer' in f.lower()]\n",
    "    cweb_files = [f for f in matching_files if 'cweb' in f.lower()]\n",
    "    \n",
    "    if primer_files:\n",
    "        f770w_files.append(primer_files[0])  # Prefer PRIMER file\n",
    "    elif cweb_files:\n",
    "        f770w_files.append(cweb_files[0])  # Use CWEB only if no PRIMER available\n",
    "\n",
    "# Get all F1800W files\n",
    "f1800w_files = glob.glob(os.path.join(cutouts_folder, f'*F1800W*.fits'))\n",
    "\n",
    "psf_f770w = phot.get_psf('F770W')\n",
    "psf_f1800w = phot.get_psf('F1800W')\n",
    "\n",
    "phot.perform_photometry(f770w_files, aperture_table, output_folder, \n",
    "                        psf_f770w, fig_path=fig_path, suffix='_v3', \n",
    "                        sigma=2.0, annulus_factor=3.0\n",
    ")\n",
    "phot.perform_photometry(f1800w_files, aperture_table, output_folder, \n",
    "                        psf_f1800w, fig_path=fig_path, suffix='_v3', \n",
    "                        sigma=2.0, annulus_factor=3.0\n",
    ")\n",
    "phot.combine_figures(fig_path)"
   ]
  },
  {
   "cell_type": "markdown",
   "metadata": {},
   "source": [
    "Create the FITS table"
   ]
  },
  {
   "cell_type": "code",
   "execution_count": null,
   "metadata": {},
   "outputs": [],
   "source": [
    "# Your existing code to save CSV files for each filter\n",
    "results_folder = '/home/bpc/University/master/Red_Cardinal/photometry/results/'\n",
    "os.makedirs(results_folder, exist_ok=True)\n",
    "\n",
    "# Now create the combined FITS table\n",
    "phot.combine_filter_csv_to_fits(results_folder, suffix =\"_v3\")"
   ]
  },
  {
   "cell_type": "code",
   "execution_count": null,
   "metadata": {},
   "outputs": [],
   "source": [
    "table1_path =  '/home/bpc/University/master/Red_Cardinal/photometry/results/Flux_Aperture_PSFMatched_AperCorr_MIRI_v3.fits'\n",
    "\n",
    "print(\"Smaller aperture:\")\n",
    "table = Table.read(table1_path)\n",
    "row = table[table['ID']=='7934']\n",
    "print(row)\n",
    "row = table[table['ID']=='12202']\n",
    "print(row)\n",
    "row = table[table['ID']=='11136']\n",
    "print(row)\n",
    "\n",
    "\n",
    "print(\"\\n\")\n",
    "print(\"Bigger aperture:\")\n",
    "table2_path = '/home/bpc/University/master/Red_Cardinal/photometry/results/Flux_Aperture_PSFMatched_AperCorr_MIRI_v2.fits'\n",
    "table = Table.read(table2_path)\n",
    "row = table[table['ID']=='7934']\n",
    "print(row)\n",
    "row = table[table['ID']=='12202']\n",
    "print(row)\n",
    "row = table[table['ID']=='11136']\n",
    "print(row)"
   ]
  },
  {
   "cell_type": "markdown",
   "metadata": {},
   "source": [
    "Compare the two catalogues:"
   ]
  },
  {
   "cell_type": "code",
   "execution_count": null,
   "metadata": {},
   "outputs": [],
   "source": [
    "# Load the two tables\n",
    "table1_path =  '/home/bpc/University/master/Red_Cardinal/photometry/results/Flux_Aperture_PSFMatched_AperCorr_MIRI_v2.fits'\n",
    "table2_path =  '/home/bpc/University/master/Red_Cardinal/photometry/results/Flux_Aperture_PSFMatched_AperCorr_MIRI_v3.fits'\n",
    "\n",
    "\n",
    "table1 = Table.read(table1_path)\n",
    "table2 = Table.read(table2_path)\n",
    "\n",
    "# Convert ID columns to string for alignment\n",
    "ids1 = [id.decode() if isinstance(id, bytes) else str(id) for id in table1['ID']]\n",
    "ids2 = [id.decode() if isinstance(id, bytes) else str(id) for id in table2['ID']]\n",
    "\n",
    "# Match common IDs\n",
    "common_ids = sorted(set(ids1) & set(ids2))\n",
    "print(f\"Found {len(common_ids)} common galaxies\")\n",
    "\n",
    "# Collect differences for each band (F770W = index 0, F1800W = index 1)\n",
    "diffs = {'Flux': [], 'Apr_Corr': []}\n",
    "bands = ['F770W', 'F1800W']\n",
    "\n",
    "for idx in [0, 1]:\n",
    "    flux_diffs = []\n",
    "    corr_diffs = []\n",
    "    \n",
    "    for gid in common_ids:\n",
    "        i1 = ids1.index(gid)\n",
    "        i2 = ids2.index(gid)\n",
    "\n",
    "        flux_small = table1['Flux'][i1][idx]*1e6\n",
    "        flux_big = table2['Flux'][i2][idx]*1e6\n",
    "        corr_small = table1['Apr_Corr'][i1][idx] if 'Apr_Corr' in table1.colnames else np.nan\n",
    "        corr_big = table2['Apr_Corr'][i2][idx] if 'Apr_Corr' in table2.colnames else np.nan\n",
    "\n",
    "        # Only compare valid fluxes\n",
    "        if np.isfinite(flux_small) and np.isfinite(flux_big):\n",
    "            flux_diffs.append(flux_big - flux_small)\n",
    "        \n",
    "        if np.isfinite(corr_small) and np.isfinite(corr_big):\n",
    "            corr_diffs.append(corr_big - corr_small)\n",
    "    \n",
    "    diffs['Flux'].append(flux_diffs)\n",
    "    diffs['Apr_Corr'].append(corr_diffs)\n",
    "\n",
    "    # Print basic statistics\n",
    "    print(f\"\\n📊 Band: {bands[idx]}\")\n",
    "    print(f\"Flux difference: mean={np.mean(flux_diffs):.3e}, median={np.median(flux_diffs):.3e}, std={np.std(flux_diffs):.3e}\")\n",
    "    print(f\"Aperture correction difference: mean={np.mean(corr_diffs):.3f}, median={np.median(corr_diffs):.3f}, std={np.std(corr_diffs):.3f}\")\n",
    "\n",
    "\n",
    "# --- Plotting ---\n",
    "fig, axs = plt.subplots(2, 2, figsize=(12, 8))\n",
    "props = dict(boxstyle='round', facecolor='white', alpha=0.85)\n",
    "\n",
    "for i, band in enumerate(bands):\n",
    "    flux_diffs = diffs['Flux'][i]\n",
    "    corr_diffs = diffs['Apr_Corr'][i]\n",
    "\n",
    "    # Flux\n",
    "    ax_flux = axs[i, 0]\n",
    "    ax_flux.hist(flux_diffs, bins=30, alpha=0.7, color='cornflowerblue')\n",
    "    ax_flux.set_title(f\"{band} Flux Difference\")\n",
    "    ax_flux.set_xlabel(\"Flux_large_apr - Flux_small_apr [µJy]\")\n",
    "\n",
    "    text_flux = '\\n'.join((\n",
    "        f\"Mean:   {np.mean(flux_diffs):.2f} µJy\",\n",
    "        f\"Median: {np.median(flux_diffs):.2f} µJy\",\n",
    "        f\"Std:    {np.std(flux_diffs):.2f} µJy\"\n",
    "    ))\n",
    "    ax_flux.text(0.25, 0.95, text_flux, transform=ax_flux.transAxes,\n",
    "                 fontsize=9, verticalalignment='top', horizontalalignment='right', bbox=props)\n",
    "\n",
    "    # Aperture Correction\n",
    "    ax_corr = axs[i, 1]\n",
    "    ax_corr.hist(corr_diffs, bins=30, alpha=0.7, color='darkorange')\n",
    "    ax_corr.set_title(f\"{band} Aperture Correction Difference\")\n",
    "    ax_corr.set_xlabel(\"Corr_large_apr - Corr_small_apr\")\n",
    "\n",
    "    text_corr = '\\n'.join((\n",
    "        f\"Mean:   {np.mean(corr_diffs):.2f}\",\n",
    "        f\"Median: {np.median(corr_diffs):.2f}\",\n",
    "        f\"Std:    {np.std(corr_diffs):.2f}\"\n",
    "    ))\n",
    "    ax_corr.text(0.2, 0.95, text_corr, transform=ax_corr.transAxes,\n",
    "                 fontsize=9, verticalalignment='top', horizontalalignment='right', bbox=props)\n",
    "\n",
    "plt.suptitle('Comparison between large and small aperture')\n",
    "plt.tight_layout()\n",
    "plt.show()\n",
    "\n"
   ]
  },
  {
   "cell_type": "markdown",
   "metadata": {},
   "source": [
    "Collect galaxy IDs and their corresponding observations:"
   ]
  },
  {
   "cell_type": "code",
   "execution_count": null,
   "metadata": {},
   "outputs": [],
   "source": [
    "NIRCam_table =  '/home/bpc/University/master/Red_Cardinal/Flux_Aperture_PSFMatched_AperCorr_old.fits'\n",
    "table = Table.read(NIRCam_table)\n",
    "table.info()\n",
    "f444w_ids = list(table['ID'])\n",
    "\n",
    "MIRI_table = '/home/bpc/University/master/Red_Cardinal/photometry/results/Flux_Aperture_PSFMatched_AperCorr_MIRI.fits'\n",
    "table = Table.read(MIRI_table)\n",
    "table.info()\n",
    "f770w_ids = list(table['ID'])\n",
    "\n",
    "cutout_dir = '/home/bpc/University/master/Red_Cardinal/cutouts_phot/'\n",
    "f1800w_ids = glob.glob(os.path.join(cutout_dir, '*F1800W*.fits'))\n",
    "for i, f in enumerate(f1800w_ids):\n",
    "    f = os.path.basename(f).split('_')[0]\n",
    "    f1800w_ids[i] = f\n",
    "\n",
    "# Convert the arrays to sets for efficient comparison\n",
    "set_f444w = set(f444w_ids)\n",
    "set_f770w = set(f770w_ids)\n",
    "set_f1800w = set(f1800w_ids)\n",
    "\n",
    "# 1) IDs in all 3 arrays\n",
    "in_all_three = set_f444w & set_f770w & set_f1800w\n",
    "\n",
    "# 2) IDs in f444w_ids and f770w_ids only (not in f1800w_ids)\n",
    "in_f444w_and_f770w_only = (set_f444w & set_f770w) - set_f1800w\n",
    "\n",
    "# 3) IDs only in f444w_ids and not in the other 2\n",
    "only_in_f444w = set_f444w - set_f770w - set_f1800w\n",
    "\n",
    "# Convert back to sorted lists if needed\n",
    "in_all_three = sorted(list(in_all_three))\n",
    "in_f444w_and_f770w_only = sorted(list(in_f444w_and_f770w_only))\n",
    "only_in_f444w = sorted(list(only_in_f444w))\n",
    "\n",
    "print(f\"{len(in_all_three)} IDs in all three arrays: {in_all_three}\")\n",
    "print(f\"{len(in_f444w_and_f770w_only)} IDs in f444w_ids and f770w_ids only: {in_f444w_and_f770w_only}\")\n",
    "print(f\"{len(only_in_f444w)} IDs only in f444w_ids: {only_in_f444w}\")\n",
    "\n"
   ]
  },
  {
   "cell_type": "markdown",
   "metadata": {},
   "source": [
    "Check the contents of the original FITS files:"
   ]
  },
  {
   "cell_type": "code",
   "execution_count": null,
   "metadata": {},
   "outputs": [],
   "source": [
    "fname = './../cutouts/7102_F770W_cutout_cweb1.fits'\n",
    "#with fits.open(fname) as hdul:\n",
    "    #hdul.info()\n",
    "\n",
    "\n",
    "fname = './../MIRI/PRIMER_003/jw01837-o003_t003_miri_f770w_i2d.fits'\n",
    "with fits.open(fname) as hdul:\n",
    "    hdul.info()\n",
    "\n",
    "fname = './../MIRI_shifted/PRIMER_003_shifted/jw01837-o003_t003_miri_f770w_i2d_shifted.fits'\n",
    "with fits.open(fname) as hdul:\n",
    "    hdul.info()\n",
    "\n"
   ]
  }
 ],
 "metadata": {
  "kernelspec": {
   "display_name": "myenv",
   "language": "python",
   "name": "python3"
  },
  "language_info": {
   "codemirror_mode": {
    "name": "ipython",
    "version": 3
   },
   "file_extension": ".py",
   "mimetype": "text/x-python",
   "name": "python",
   "nbconvert_exporter": "python",
   "pygments_lexer": "ipython3",
   "version": "3.12.3"
  }
 },
 "nbformat": 4,
 "nbformat_minor": 2
}
