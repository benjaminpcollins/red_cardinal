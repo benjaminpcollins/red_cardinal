{
 "cells": [
  {
   "cell_type": "markdown",
   "metadata": {},
   "source": [
    "## Photometry on MIRI images"
   ]
  },
  {
   "cell_type": "code",
   "execution_count": null,
   "metadata": {},
   "outputs": [],
   "source": [
    "from astropy.io import fits\n",
    "from astropy.coordinates import SkyCoord\n",
    "from astropy.wcs import WCS, FITSFixedWarning\n",
    "from astropy.nddata import Cutout2D\n",
    "from astropy.table import Table\n",
    "from regions import EllipsePixelRegion, PixCoord\n",
    "import astropy.units as u\n",
    "import matplotlib.pyplot as plt\n",
    "import numpy as np\n",
    "import pandas as pd\n",
    "import os\n",
    "import glob\n",
    "import warnings\n",
    "import subprocess\n",
    "import json\n",
    "\n",
    "warnings.simplefilter(\"ignore\", category=FITSFixedWarning)\n"
   ]
  },
  {
   "cell_type": "markdown",
   "metadata": {},
   "source": [
    "Now let's choose a galaxy, read its aperture data and overplot it!"
   ]
  },
  {
   "cell_type": "code",
   "execution_count": null,
   "metadata": {},
   "outputs": [],
   "source": [
    "def load_cutout(file_path, index=1):\n",
    "    \"\"\"Loads a FITS cutout file and extracts the data, header, and WCS.\"\"\"\n",
    "    try:\n",
    "        with fits.open(file_path) as hdu:\n",
    "            data = hdu[index].data\n",
    "            header = hdu[index].header\n",
    "            wcs = WCS(header)\n",
    "        return data, wcs\n",
    "    except FileNotFoundError:\n",
    "        print(f\"File not found: {file_path}\")\n",
    "        return None, None\n",
    "\n",
    "def adjust_aperture(galaxy_id, filter, survey, obs, output_folder):\n",
    "    \n",
    "    # --- Load the FITS table ---\n",
    "    #table_path =  '/home/bpc/University/master/Red_Cardinal/Flux_Aperture_PSFMatched_AperCorr_old.fits'\n",
    "    #aperture_table = Table.read(table_path)\n",
    "    table_path =  '/home/bpc/University/master/Red_Cardinal/aperture_table.csv'\n",
    "    df = pd.read_csv(table_path)\n",
    "    \n",
    "    # --- Select the galaxy by ID ---\n",
    "    #row = aperture_table[aperture_table['ID'] == galaxy_id][0]\n",
    "    row = df[df['ID'] == galaxy_id].iloc[0]\n",
    "\n",
    "    # --- Read in rotation angle of MIRI FITS file ---\n",
    "    angle_file = '/home/bpc/University/master/Red_Cardinal/rotation_angles.json'\n",
    "    with open(angle_file, \"r\") as f:\n",
    "        angles = json.load(f)\n",
    "    angle = angles[f\"angle_{survey}{obs}\"] * u.deg\n",
    "    \n",
    "    # --- Read WCS from NIRCam image ---\n",
    "    nircam_path = f\"/home/bpc/University/master/Red_Cardinal/NIRCam/F444W_cutouts/{galaxy_id}_F444W_cutout.fits\"\n",
    "    nircam_data, nircam_wcs = load_cutout(nircam_path)\n",
    "\n",
    "    # --- Convert NIRCam pixel coordinates to sky ---\n",
    "    sky_coord = nircam_wcs.pixel_to_world(row['Apr_Xcenter'], row['Apr_Ycenter'])\n",
    "\n",
    "    # --- Open MIRI cutout image ---\n",
    "    miri_path = f\"/home/bpc/University/master/Red_Cardinal/cutouts/{galaxy_id}_{filter}_cutout_{survey}{obs}.fits\"\n",
    "    miri_data, miri_wcs = load_cutout(miri_path)\n",
    "\n",
    "    # --- Convert sky coords to MIRI pixel coordinates ---\n",
    "    miri_x, miri_y = miri_wcs.world_to_pixel(sky_coord)\n",
    "\n",
    "    # --- Create elliptical region in MIRI pixel space ---\n",
    "    nircam_scale = 0.031    # arcsec/pixel\n",
    "    miri_scale = 0.10996    # arcsec/pixel\n",
    "    scale_factor = nircam_scale / miri_scale\n",
    "    \n",
    "    # --- Specify parameters for the ellips ---\n",
    "    width = row['Apr_A'] * scale_factor\n",
    "    height = row['Apr_B'] * scale_factor\n",
    "    theta_rad = row['Apr_Theta'] * u.deg\n",
    "    theta_rad += angle\n",
    "    \n",
    "    # --- Create output file and check if folder exists ---\n",
    "    os.makedirs(output_folder, exist_ok=True)\n",
    "    outfile = os.path.join(output_folder, f'{galaxy_id}_{survey}{obs}_aperture_reg')\n",
    "    # --- Write to DS9-compatible region file ---\n",
    "    with open(outfile, \"w\") as fh:\n",
    "        fh.write(\"# Region file format: DS9 version 4.1\\n\")\n",
    "        fh.write(\"global color=red dashlist=8 3 width=2 font=\\\"helvetica 10 normal\\\" \"\n",
    "                \"select=1 highlite=1 dash=0 fixed=0 edit=1 move=1 delete=1 include=1 source=1\\n\")\n",
    "        fh.write(\"image\\n\")\n",
    "        fh.write(f\"ellipse({miri_x:.2f},{miri_y:.2f},{width:.2f},{height:.2f},{theta_rad:.2f})\\n\")\n",
    "\n",
    "    # --- Launch DS9 with the MIRI cutout and the overplotted aperture ---\n",
    "    #subprocess.run([\"ds9\", miri_path, \"-regions\", outfile])"
   ]
  },
  {
   "cell_type": "markdown",
   "metadata": {},
   "source": [
    "Now let's try and call the function:"
   ]
  },
  {
   "cell_type": "code",
   "execution_count": null,
   "metadata": {},
   "outputs": [],
   "source": [
    "out_dir = \"/home/bpc/University/master/Red_Cardinal/photometry/regions/\"\n",
    "adjust_aperture(9871, 'F770W', 'primer', '004', out_dir)"
   ]
  },
  {
   "cell_type": "markdown",
   "metadata": {},
   "source": [
    "Let's check the table:"
   ]
  },
  {
   "cell_type": "code",
   "execution_count": null,
   "metadata": {},
   "outputs": [],
   "source": [
    "table_path =  '/home/bpc/University/master/Red_Cardinal/Flux_Aperture_PSFMatched_AperCorr_old.fits'\n",
    "\n",
    "table = Table.read(table_path)\n",
    "print(table[:5])\n",
    "table.info()\n",
    "csv_file = '/home/bpc/University/master/Red_Cardinal/aperture_table.csv'\n",
    "\n",
    "# Select only the Apr_* columns and ID\n",
    "selected_cols = table[\"Apr_A\", \"Apr_B\", \"Apr_Xcenter\", \"Apr_Ycenter\", \"Apr_Theta\", \"ID\"]\n",
    "\n",
    "selected_cols.write(csv_file, format=\"csv\", overwrite=True)"
   ]
  }
 ],
 "metadata": {
  "kernelspec": {
   "display_name": "myenv",
   "language": "python",
   "name": "python3"
  },
  "language_info": {
   "codemirror_mode": {
    "name": "ipython",
    "version": 3
   },
   "file_extension": ".py",
   "mimetype": "text/x-python",
   "name": "python",
   "nbconvert_exporter": "python",
   "pygments_lexer": "ipython3",
   "version": "3.12.3"
  }
 },
 "nbformat": 4,
 "nbformat_minor": 2
}
