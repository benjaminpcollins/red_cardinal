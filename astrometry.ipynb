{
 "cells": [
  {
   "cell_type": "markdown",
   "metadata": {},
   "source": [
    "# Code to measure the offset of each MIRI galaxy to the centre of the frame\n",
    "\n",
    "To do this, we will read in the catalogue of galaxies to obtain their respective IDs, RAs and Decs. Then we will fit a centroid to all our MIRI images and determine their coordinates. From this we can calculate the spherical offsets. Lastly we will plot the results and see what happens.\n",
    "\n",
    "The code is separated into several functions that are being called by one main function for better readability and easier debugging."
   ]
  },
  {
   "cell_type": "code",
   "execution_count": null,
   "metadata": {},
   "outputs": [],
   "source": [
    "%load_ext autoreload\n",
    "%autoreload 2\n",
    "\n",
    "import astropy.units as u\n",
    "import numpy as np\n",
    "import pandas as pd\n",
    "import os\n",
    "import glob\n",
    "import warnings\n",
    "import miri_utils.astrometry_utils as am\n",
    "\n",
    "\n",
    "from astropy.table import Table\n",
    "from matplotlib import pyplot as plt\n",
    "from astropy.wcs import FITSFixedWarning\n",
    "\n",
    "warnings.simplefilter(\"ignore\", category=FITSFixedWarning)\n",
    "\n",
    "shifted_miri = True    # MIRI FITS files have been shifted!"
   ]
  },
  {
   "cell_type": "markdown",
   "metadata": {},
   "source": [
    "Define the global catalogue:"
   ]
  },
  {
   "cell_type": "code",
   "execution_count": null,
   "metadata": {},
   "outputs": [],
   "source": [
    "catalogue = '/home/bpc/University/master/Red_Cardinal/catalogues/cat_targets.fits'\n",
    "\n",
    "new_cat = Table.read(catalogue)\n",
    "\n",
    "# Add the columns to store the astrometric offsets\n",
    "\"\"\"\n",
    "for col in [\"primer003_dra\", \"primer003_ddec\", \n",
    "            \"primer004_dra\", \"primer004_ddec\", \n",
    "            \"cweb1_dra\", \"cweb1_ddec\",\n",
    "            \"cweb2_dra\", \"cweb2_ddec\"]:\n",
    "    if col not in global_cat.colnames:\n",
    "        global_cat[col] = 0.0 * u.arcsec\n",
    "\"\"\"\n",
    "for col in [\"cos3d1_f1000w_dra\", \"cos3d1_f1000w_ddec\",\n",
    "            \"cos3d2_f1000w_dra\", \"cos3d2_f1000w_ddec\",\n",
    "            \"cos3d1_f2100w_dra\", \"cos3d1_f2100w_ddec\",\n",
    "            \"cos3d2_f2100w_dra\", \"cos3d2_f2100w_ddec\"]:\n",
    "    if col not in new_cat.colnames:\n",
    "        new_cat[col] = 0.0 * u.arcsec\n",
    "\n",
    "\n",
    "new_cat"
   ]
  },
  {
   "cell_type": "markdown",
   "metadata": {},
   "source": [
    "# Call the function to compute the offsets"
   ]
  },
  {
   "cell_type": "code",
   "execution_count": null,
   "metadata": {},
   "outputs": [],
   "source": [
    "# Specify the path to the cutouts directory\n",
    "cutouts = '/home/bpc/University/master/Red_Cardinal/cutouts_3d/'\n",
    "\n",
    "#compute_offset(co_rotated, 'primer', 'F770W', '003')\n",
    "#compute_offset(co_rotated, 'primer', 'F770W', '004')\n",
    "#compute_offset(co_rotated, 'primer', 'F1800W', '003')\n",
    "#compute_offset(co_rotated, 'primer', 'F1800W', '004')\n",
    "#compute_offset(co_rotated, survey='cweb', filter='F770W', obs=\"1\")\n",
    "#compute_offset(co_rotated, survey='cweb', filter='F770W', obs=\"2\")\n",
    "\n",
    "out_dir = 'offsets2'\n",
    "\n",
    "#am.compute_offset(cutouts, out_dir, 'primer', 'F770W', '003')\n",
    "#am.compute_offset(cutouts, out_dir, 'primer', 'F770W', '004')\n",
    "#compute_offset(cutouts, out_dir, 'primer', 'F1800W', '003')\n",
    "#compute_offset(cutouts, out_dir, 'primer', 'F1800W', '004')\n",
    "#am.compute_offset(cutouts, out_dir, survey='cweb', filter='F770W', obs=\"1\")\n",
    "#am.compute_offset(cutouts, out_dir, survey='cweb', filter='F770W', obs=\"2\")\n",
    "\n",
    "output_dir = f\"/home/bpc/University/master/Red_Cardinal/offsets_3d/\"\n",
    "am.compute_offset(cutouts, output_dir, new_cat, survey='cosmos3d', filter='F1000W', obs=\"1\", use_filters=True)\n",
    "am.compute_offset(cutouts, output_dir, new_cat, survey='cosmos3d', filter='F1000W', obs=\"2\", use_filters=True)\n",
    "am.compute_offset(cutouts, output_dir, new_cat, survey='cosmos3d', filter='F2100W', obs=\"1\", use_filters=True)\n",
    "am.compute_offset(cutouts, output_dir, new_cat, survey='cosmos3d', filter='F2100W', obs=\"2\", use_filters=True)"
   ]
  },
  {
   "cell_type": "markdown",
   "metadata": {},
   "source": [
    "Now we visualise the catalogue and store it in a csv-file"
   ]
  },
  {
   "cell_type": "code",
   "execution_count": null,
   "metadata": {},
   "outputs": [],
   "source": [
    "new_cat\n",
    "fname = \"/home/bpc/University/master/Red_Cardinal/offsets_3d/astrometric_offsets_v2.csv\"\n",
    "#fname = \"/home/bpc/University/master/Red_Cardinal/offsets_3d/astrometric_offsets_F2100W.csv\"\n",
    "\n",
    "# drop all necessary rows\n",
    "mask = ~((new_cat['cos3d_dra'] == 0.0) &\n",
    "         (new_cat['cos3d2_dra'] == 0.0))\n",
    "cat = new_cat[mask]\n",
    "\n",
    "cat.write(fname, format=\"csv\", overwrite=True)"
   ]
  },
  {
   "cell_type": "markdown",
   "metadata": {},
   "source": [
    "# Function to visualise the offsets"
   ]
  },
  {
   "cell_type": "markdown",
   "metadata": {},
   "source": [
    "Call the function!"
   ]
  },
  {
   "cell_type": "code",
   "execution_count": null,
   "metadata": {},
   "outputs": [],
   "source": [
    "# Read in the data as a pandas dataframe\n",
    "fname = \"/home/bpc/University/master/Red_Cardinal/offsets2/astrometric_offsets_orig.csv\"\n",
    "df = pd.read_csv(fname)\n",
    "\n",
    "# Exclude the following galaxies from analysis\n",
    "exclude_ids = [19098, 19681, 21451, 7934, 8465, 9517, 10415, 11247, 11451, 12133,\n",
    "               12175, 12213, 7696, 9809, 10600, 11137, 16615, 16874, 17517, 11481,\n",
    "               12443, 20720, 21472, 21547, 22606]\n",
    "\n",
    "exclude_ids_orig = [18769, 19098, 19681, 7904, 8465, 9517, 10415, 11247, 12133, \n",
    "                    12175, 7696, 16615, 17517, 17534, 17669, 19307, 8843, 9809, \n",
    "                    9986, 11137, 11481, 12133, 12175, 12443, 12513, 20720, 21472,\n",
    "                    21547, 22606]\n",
    "exclude_ids_F1800W = [17793, 18769, 19098, 19681, 21451]\n",
    "\n",
    "# Specify output directory\n",
    "output_dir = \"/home/bpc/University/master/Red_Cardinal/offsets2/\"\n",
    "\n",
    "\n",
    "# Call the function and store new DataFrames\n",
    "df_primer003 = am.visualise_offsets(df, 'primer003', output_dir, exclude_ids_orig, 'F770W', 0.0)\n",
    "df_primer004 = am.visualise_offsets(df, 'primer004', output_dir, exclude_ids_orig, 'F770W', 0.0)\n",
    "df_primer003_1800 = am.visualise_offsets(df, 'primer003', output_dir, exclude_ids_F1800W, 'F1800W', 0.0)\n",
    "df_primer004_1800 = am.visualise_offsets(df, 'primer004', output_dir, exclude_ids, 'F1800W', 0.0)\n",
    "df_cweb1 = am.visualise_offsets(df, 'cweb1', output_dir, exclude_ids_orig, 'F770W', 0.0)\n",
    "df_cweb2 = am.visualise_offsets(df, 'cweb2', output_dir, exclude_ids_orig, 'F770W', 0.0)"
   ]
  },
  {
   "cell_type": "markdown",
   "metadata": {},
   "source": [
    "Read in the data frames and create the scatter plots:"
   ]
  },
  {
   "cell_type": "code",
   "execution_count": null,
   "metadata": {},
   "outputs": [],
   "source": [
    "# Specify output directory\n",
    "output_dir = \"/home/bpc/University/master/Red_Cardinal/offsets_3d/\"\n",
    "\n",
    "df = pd.read_csv(\"/home/bpc/University/master/Red_Cardinal/offsets_3d/astrometric_offsets_cos3d.csv\")\n",
    "\n",
    "exclude_ids_3d_f1000w = [11716, 11853, 12133, 12202, 12443, 12513, 16615, 17517, 17534, 17984, 18327, 19307]\n",
    "exclude_ids_3d_f2100w = [7102, 11247, 11494, 11716, 11723, 11853, 12014, 12133, 12164, 12175, 12202, 12213, 12443, 12513, 12397,\n",
    "                         16419, 16474,  # maybe include those Idk\n",
    "                         16516, 16615, 16874, 17000, 17517, 17534, 17842, 17916, 17984, 13297]\n",
    "\n",
    "df_cos3d1_f1000w = am.visualise_offsets(df, 'cos3d1', output_dir, exclude_ids_3d_f1000w, 'F1000W', use_filters=True)\n",
    "df_cos3d2_f1000w = am.visualise_offsets(df, 'cos3d2', output_dir, exclude_ids_3d_f1000w, 'F1000W', use_filters=True)\n",
    "\n",
    "df_cos3d1_f2100w = am.visualise_offsets(df, 'cos3d1', output_dir, exclude_ids_3d_f2100w, 'F2100W', use_filters=True)\n",
    "df_cos3d2_f2100w = am.visualise_offsets(df, 'cos3d2', output_dir, exclude_ids_3d_f2100w, 'F2100W', use_filters=True)"
   ]
  },
  {
   "cell_type": "markdown",
   "metadata": {},
   "source": [
    "# Scatter plots\n",
    "\n",
    "PRIMER and COSMOS-Web"
   ]
  },
  {
   "cell_type": "code",
   "execution_count": null,
   "metadata": {},
   "outputs": [],
   "source": [
    "# Specify output directory\n",
    "output_dir = \"/home/bpc/University/master/Red_Cardinal/offsets2/scatter_plots/\"\n",
    "\n",
    "figname = output_dir + 'offset_scatter.png'\n",
    "\n",
    "plt.scatter(df_primer003['dra'], df_primer003['ddec'], label='PRIMER 003')\n",
    "plt.scatter(df_primer004['dra'], df_primer004['ddec'], label='PRIMER 004')\n",
    "plt.scatter(df_cweb1['dra'], df_cweb1['ddec'], label='COSMOS-Web 1')\n",
    "plt.scatter(df_cweb2['dra'], df_cweb2['ddec'], label='COSMOS-Web 2')\n",
    "plt.xlabel('Delta RA (arcsec)')\n",
    "plt.ylabel('Delta dec (arcsec)')\n",
    "plt.title('Astrometric offset between F444W cutout to F770W')\n",
    "plt.xlim(-0.6, 0.6)\n",
    "plt.ylim(-0.6, 0.6)\n",
    "plt.legend()\n",
    "plt.axvline(0, ls='--', color='k')\n",
    "plt.axhline(0, ls='--', color='k')\n",
    "plt.savefig(figname)\n",
    "plt.show()\n",
    "\n",
    "\n",
    "figname = output_dir + 'avg_offset_scatter.png'\n",
    "\n",
    "plt.scatter(np.mean(df_primer003['dra']), np.mean(df_primer003['ddec']), label='PRIMER 003')\n",
    "plt.scatter(np.mean(df_primer004['dra']), np.mean(df_primer004['ddec']), label='PRIMER 004')\n",
    "plt.scatter(np.mean(df_cweb1['dra']), np.mean(df_cweb1['ddec']), label='COSMOS-Web 1')\n",
    "plt.scatter(np.mean(df_cweb2['dra']), np.mean(df_cweb2['ddec']), label='COSMOS-Web 2')\n",
    "plt.xlabel('Delta RA (arcsec)')\n",
    "plt.ylabel('Delta dec (arcsec)')\n",
    "plt.title('Average astrometric offset between F444W cutout to F770W')\n",
    "plt.xlim(-0.6, 0.6)\n",
    "plt.ylim(-0.6, 0.6)\n",
    "plt.legend()\n",
    "plt.axvline(0, ls='--', color='k')\n",
    "plt.axhline(0, ls='--', color='k')\n",
    "plt.savefig(figname)\n",
    "plt.show()\n",
    "\n",
    "\n",
    "\n",
    "figname = output_dir + 'offset_F1800W_scatter.png'\n",
    "\n",
    "plt.scatter(df_primer003_1800['dra'], df_primer003_1800['ddec'], label='PRIMER 003')\n",
    "plt.scatter(df_primer004_1800['dra'], df_primer004_1800['ddec'], label='PRIMER 004')\n",
    "plt.xlabel('Delta RA (arcsec)')\n",
    "plt.ylabel('Delta dec (arcsec)')\n",
    "plt.title('Astrometric offset between F444W cutout to F1800W')\n",
    "plt.xlim(-0.6, 0.6)\n",
    "plt.ylim(-0.6, 0.6)\n",
    "plt.legend()\n",
    "plt.axvline(0, ls='--', color='k')\n",
    "plt.axhline(0, ls='--', color='k')\n",
    "plt.savefig(figname)\n",
    "plt.show()\n",
    "\n",
    "\n",
    "figname = output_dir + 'avg_offset_F1800W_scatter.png'\n",
    "\n",
    "plt.scatter(np.mean(df_primer003_1800['dra']), np.mean(df_primer003_1800['ddec']), label='PRIMER 003')\n",
    "plt.scatter(np.mean(df_primer004_1800['dra']), np.mean(df_primer004_1800['ddec']), label='PRIMER 004')\n",
    "plt.xlabel('Delta RA (arcsec)')\n",
    "plt.ylabel('Delta dec (arcsec)')\n",
    "plt.title('Average astrometric offset between F444W cutout to F1800W')\n",
    "plt.xlim(-0.6, 0.6)\n",
    "plt.ylim(-0.6, 0.6)\n",
    "plt.legend()\n",
    "plt.axvline(0, ls='--', color='k')\n",
    "plt.axhline(0, ls='--', color='k')\n",
    "plt.savefig(figname)\n",
    "plt.show()\n"
   ]
  },
  {
   "cell_type": "markdown",
   "metadata": {},
   "source": [
    "COSMOS-3D F1000W"
   ]
  },
  {
   "cell_type": "code",
   "execution_count": null,
   "metadata": {},
   "outputs": [],
   "source": [
    "# Specify output directory\n",
    "output_dir = \"/home/bpc/University/master/Red_Cardinal/offsets_3d/scatter_plots/\"\n",
    "\n",
    "\n",
    "\n",
    "figname = output_dir + 'offset_scatter_F1000W.png'\n",
    "\n",
    "plt.scatter(df_cweb3d1_f1000w['dra'], df_cweb3d1_f1000w['ddec'], label='COSMOS-3D 1')\n",
    "plt.scatter(df_cweb3d2_f1000w['dra'], df_cweb3d2_f1000w['ddec'], label='COSMOS-3D 2')\n",
    "plt.xlabel('Delta RA (arcsec)')\n",
    "plt.ylabel('Delta dec (arcsec)')\n",
    "plt.title('Astrometric offset from F444W cutout to F1000W')\n",
    "plt.xlim(-1, 1)\n",
    "plt.ylim(-1, 1)\n",
    "plt.legend()\n",
    "plt.axvline(0, ls='--', color='k')\n",
    "plt.axhline(0, ls='--', color='k')\n",
    "plt.savefig(figname)\n",
    "plt.show()\n",
    "\n",
    "\n",
    "figname = output_dir + 'avg_offset_scatter_F1000W.png'\n",
    "\n",
    "plt.scatter(np.mean(df_cweb3d1_f1000w['dra']), np.mean(df_cweb3d1_f1000w['ddec']), label='COSMOS-3D 1')\n",
    "plt.scatter(np.mean(df_cweb3d2_f1000w['dra']), np.mean(df_cweb3d2_f1000w['ddec']), label='COSMOS-3D 2')\n",
    "plt.xlabel('Delta RA (arcsec)')\n",
    "plt.ylabel('Delta dec (arcsec)')\n",
    "plt.title('Average astrometric offset from F444W cutout to F1000W')\n",
    "plt.xlim(-1, 1)\n",
    "plt.ylim(-1, 1)\n",
    "plt.legend()\n",
    "plt.axvline(0, ls='--', color='k')\n",
    "plt.axhline(0, ls='--', color='k')\n",
    "plt.savefig(figname)\n",
    "plt.show()\n",
    "\n",
    "\n",
    "print(np.mean(df_cweb3d1_f1000w['dra']))\n"
   ]
  },
  {
   "cell_type": "code",
   "execution_count": null,
   "metadata": {},
   "outputs": [],
   "source": [
    "output_dir = \"/home/bpc/University/master/Red_Cardinal/offsets_final/\"\n",
    "output_basename = \"offset_scatter_f770w\"\n",
    "title='Astrometric Offsets F444W → F770W'\n",
    "\n",
    "data_dict = {\n",
    "    'PRIMER 003': df_primer003,\n",
    "    'PRIMER 004': df_primer004,\n",
    "    'COSMOS-Web 1': df_cweb1,\n",
    "    'COSMOS-Web 2': df_cweb2\n",
    "}\n",
    "\n",
    "am.plot_offsets_polar(output_dir, output_basename, data_dict, title)#, plot_type='avg')\n",
    "\n",
    "\n",
    "output_basename = \"offset_scatter_f1000w\"\n",
    "title='Astrometric Offsets F444W → F1000W'\n",
    "\n",
    "data_dict = {\n",
    "    'COSMOS-3D 1': df_cos3d1_f1000w,\n",
    "    'COSMOS-3D 2': df_cos3d2_f1000w\n",
    "}\n",
    "\n",
    "am.plot_offsets_polar(output_dir, output_basename, data_dict, title)#, plot_type='avg')\n",
    "\n",
    "data_dict = {\n",
    "    'PRIMER 003': df_primer003,\n",
    "    'PRIMER 004': df_primer004,\n",
    "    'COSMOS-Web 1': df_cweb1,\n",
    "    'COSMOS-Web 2': df_cweb2,\n",
    "    'COSMOS-3D 1': df_cos3d1_f1000w,\n",
    "    'COSMOS-3D 2': df_cos3d2_f1000w\n",
    "}\n",
    "\n",
    "output_basename = 'offset_avg_all'\n",
    "title = 'Average Astrometric Offsets'\n",
    "\n",
    "am.plot_offsets_polar(output_dir, output_basename, data_dict, title, plot_type='avg')\n",
    "\n",
    "output_basename = 'offsets_all'\n",
    "title = 'Astrometric Offsets'\n",
    "\n",
    "am.plot_offsets_polar(output_dir, output_basename, data_dict, title)"
   ]
  },
  {
   "cell_type": "markdown",
   "metadata": {},
   "source": [
    "COSMOS-3D F2100W"
   ]
  },
  {
   "cell_type": "code",
   "execution_count": null,
   "metadata": {},
   "outputs": [],
   "source": [
    "figname = output_dir + 'offset_scatter_F2100W.png'\n",
    "\n",
    "plt.scatter(df_cweb3d1_f2100w['dra'], df_cweb3d1_f2100w['ddec'], label='COSMOS-3D 1')\n",
    "plt.scatter(df_cweb3d2_f2100w['dra'], df_cweb3d2_f2100w['ddec'], label='COSMOS-3D 2')\n",
    "plt.xlabel('Delta RA (arcsec)')\n",
    "plt.ylabel('Delta dec (arcsec)')\n",
    "plt.title('Astrometric offset from F444W cutout to F2100W')\n",
    "plt.xlim(-1, 1)\n",
    "plt.ylim(-1, 1)\n",
    "plt.legend()\n",
    "plt.axvline(0, ls='--', color='k')\n",
    "plt.axhline(0, ls='--', color='k')\n",
    "plt.savefig(figname)\n",
    "plt.show()\n",
    "\n",
    "\n",
    "figname = output_dir + 'avg_offset_scatter_F2100W.png'\n",
    "\n",
    "plt.scatter(np.mean(df_cweb3d1_f2100w['dra']), np.mean(df_cweb3d1_f2100w['ddec']), label='COSMOS-3D 1')\n",
    "plt.scatter(np.mean(df_cweb3d2_f2100w['dra']), np.mean(df_cweb3d2_f2100w['ddec']), label='COSMOS-3D 2')\n",
    "plt.xlabel('Delta RA (arcsec)')\n",
    "plt.ylabel('Delta dec (arcsec)')\n",
    "plt.title('Average astrometric offset from F444W cutout to F2100W')\n",
    "plt.xlim(-1, 1)\n",
    "plt.ylim(-1, 1)\n",
    "plt.legend()\n",
    "plt.axvline(0, ls='--', color='k')\n",
    "plt.axhline(0, ls='--', color='k')\n",
    "plt.savefig(figname)\n",
    "plt.show()"
   ]
  },
  {
   "cell_type": "markdown",
   "metadata": {},
   "source": [
    "Alternative plotting function for astrometric offsets using polar coordinates"
   ]
  },
  {
   "cell_type": "code",
   "execution_count": null,
   "metadata": {},
   "outputs": [],
   "source": [
    "out_dir = \"/home/bpc/University/master/Red_Cardinal/offsets_3d/scatter_plots/\"\n",
    "\n",
    "am.plot_astrometric_offsets(df_cweb3d1_f1000w, df_cweb3d2_f1000w, 'COSMOS-3D 1', 'COSMOS-3D 2', out_dir, 'F1000W')\n",
    "am.plot_astrometric_offsets(df_cweb3d1_f2100w, df_cweb3d2_f2100w, 'COSMOS-3D 1', 'COSMOS-3D 2', out_dir, 'F2100W')"
   ]
  },
  {
   "cell_type": "markdown",
   "metadata": {},
   "source": [
    "# Compensate for the offsets"
   ]
  },
  {
   "cell_type": "markdown",
   "metadata": {},
   "source": [
    "Now we shift the original FITS files such that they align with NIRCam, but are not rotated"
   ]
  },
  {
   "cell_type": "code",
   "execution_count": null,
   "metadata": {},
   "outputs": [],
   "source": [
    "\n",
    "# Define input path\n",
    "miri = \"/home/bpc/University/master/Red_Cardinal/MIRI/\"\n",
    "\n",
    "# Define the offsets directory where the statistics files are\n",
    "offset_dir = \"/home/bpc/University/master/Red_Cardinal/offsets2/\"\n",
    "\n",
    "# Shift primer observation 003\n",
    "primer003 = glob.glob(os.path.join(miri, \"PRIMER_003/*.fits\"))\n",
    "print(f\"Found {len(primer003)} FITS files for the PRIMER survey.\")\n",
    "\n",
    "for fits_file in primer003:\n",
    "    stat_file = os.path.join(offset_dir, 'offset_orig_primer003_stats.json')\n",
    "    dra, ddec = am.get_mean_stats(stat_file)\n",
    "    am.shift_miri_fits(fits_file, dra, ddec)\n",
    "\n",
    "# Shift PRIMER observation 004\n",
    "primer004 = glob.glob(os.path.join(miri, \"PRIMER_004/*.fits\"))\n",
    "print(f\"Found {len(primer004)} FITS files for the PRIMER survey.\")\n",
    "\n",
    "for fits_file in primer004:\n",
    "    stat_file = os.path.join(offset_dir, 'offset_orig_primer004_stats.json')\n",
    "    dra, ddec = am.get_mean_stats(stat_file)\n",
    "    am.shift_miri_fits(fits_file, dra, ddec)\n",
    "\n",
    "\n",
    "# Shift the first COSMOS-Web tiles\n",
    "cweb1 = glob.glob(os.path.join(miri, \"COSMOS-Web_1/*.fits\"))\n",
    "print(f\"Found {len(cweb1)} FITS files for the COSMOS-Web survey #1.\")\n",
    "\n",
    "for fits_file in cweb1:\n",
    "    stat_file = os.path.join(offset_dir, 'offset_orig_cweb1_stats.json')\n",
    "    dra, ddec = am.get_mean_stats(stat_file)\n",
    "    am.shift_miri_fits(fits_file, dra, ddec)\n",
    "\n",
    "\n",
    "# Shift the second COSMOS-Web tiles\n",
    "cweb2 = glob.glob(os.path.join(miri, \"COSMOS-Web_2/*.fits\"))\n",
    "print(f\"Found {len(cweb2)} FITS files for the COSMOS-Web survey #2.\")\n",
    "\n",
    "for fits_file in cweb2:\n",
    "    stat_file = os.path.join(offset_dir, 'offset_orig_cweb2_stats.json')\n",
    "    dra, ddec = am.get_mean_stats(stat_file)\n",
    "    am.shift_miri_fits(fits_file, dra, ddec)\n"
   ]
  },
  {
   "cell_type": "code",
   "execution_count": null,
   "metadata": {},
   "outputs": [],
   "source": [
    "shifted_miri = False"
   ]
  },
  {
   "cell_type": "code",
   "execution_count": null,
   "metadata": {},
   "outputs": [],
   "source": [
    "# Define input path\n",
    "miri = \"/home/bpc/University/master/Red_Cardinal/COSMOS-3D/\"\n",
    "\n",
    "# Define the offsets directory where the statistics files are\n",
    "offset_dir = \"/home/bpc/University/master/Red_Cardinal/offsets_3d/\"\n",
    "\n",
    "\n",
    "if shifted_miri == False:\n",
    "    # Shift COSMOS-3D observation 1\n",
    "    cosmos3d1 = glob.glob(os.path.join(miri, \"COSMOS-3D_1/*.fits\"))\n",
    "    print(f\"Found {len(cosmos3d1)} FITS files for the COSMOS-3D survey.\")\n",
    "\n",
    "    for fits_file in cosmos3d1:\n",
    "        stat_file = os.path.join(offset_dir, 'offset_cosmos3d1_F1000W_stats.json')\n",
    "        dra, ddec = am.get_mean_stats(stat_file)\n",
    "        am.shift_miri_fits(fits_file, dra, ddec)\n",
    "\n",
    "\n",
    "    # Shift COSMOS-3D observation 2\n",
    "    cosmos3d2 = glob.glob(os.path.join(miri, \"COSMOS-3D_2/*.fits\"))\n",
    "    print(f\"Found {len(cosmos3d2)} FITS files for the COSMOS-3D survey.\")\n",
    "\n",
    "    for fits_file in cosmos3d2:\n",
    "        stat_file = os.path.join(offset_dir, 'offset_cosmos3d2_F1000W_stats.json')\n",
    "        dra, ddec = am.get_mean_stats(stat_file)\n",
    "        am.shift_miri_fits(fits_file, dra, ddec)\n",
    "\n",
    "shifted_miri = True"
   ]
  },
  {
   "cell_type": "markdown",
   "metadata": {},
   "source": [
    "Call custom function to plot astrometric offsets in a polar coordinate system"
   ]
  },
  {
   "cell_type": "code",
   "execution_count": null,
   "metadata": {},
   "outputs": [],
   "source": [
    "csv_1 = '/home/bpc/University/master/Red_Cardinal/offsets2/astrometric_offsets_orig.csv'\n",
    "csv_2 = '/home/bpc/University/master/Red_Cardinal/offsets_3d/astrometric_offsets_cos3d.csv'\n",
    "\n",
    "csv_array = [csv_1, csv_2]\n",
    "\n",
    "output_dir = '/home/bpc/University/master/Red_Cardinal/offsets_new/'\n",
    "os.makedirs(output_dir, exist_ok=True)\n",
    "\n",
    "am.plot_offsets_polar(csv_array, output_dir)"
   ]
  }
 ],
 "metadata": {
  "kernelspec": {
   "display_name": "myenv",
   "language": "python",
   "name": "python3"
  },
  "language_info": {
   "codemirror_mode": {
    "name": "ipython",
    "version": 3
   },
   "file_extension": ".py",
   "mimetype": "text/x-python",
   "name": "python",
   "nbconvert_exporter": "python",
   "pygments_lexer": "ipython3",
   "version": "3.12.3"
  }
 },
 "nbformat": 4,
 "nbformat_minor": 2
}
