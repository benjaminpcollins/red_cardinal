{
 "cells": [
  {
   "cell_type": "markdown",
   "metadata": {},
   "source": [
    "# Notebook to calculate the rotation of the MIRI images with respect to NIRCam\n",
    "Let's start with the imports"
   ]
  },
  {
   "cell_type": "code",
   "execution_count": 2,
   "metadata": {},
   "outputs": [],
   "source": [
    "from astropy.io import fits\n",
    "from astropy.wcs import WCS\n",
    "import math\n",
    "import numpy as np\n",
    "import matplotlib.pyplot as plt\n",
    "import os\n",
    "import glob\n",
    "from scipy.ndimage import rotate\n",
    "from reproject import reproject_interp\n"
   ]
  },
  {
   "cell_type": "markdown",
   "metadata": {},
   "source": [
    "Define functions:"
   ]
  },
  {
   "cell_type": "code",
   "execution_count": 30,
   "metadata": {},
   "outputs": [],
   "source": [
    "\n",
    "def rotate_image(image, angle):\n",
    "    \"\"\"Rotate the image by the given angle\"\"\"\n",
    "    return rotate(image, angle, reshape=False, order=1, mode='nearest')  # Rotate by negative angle\n",
    "\n",
    "def process_fits(fits_file, output_folder):\n",
    "    \"\"\"Process the MIRI FITS file to rotate and save a new aligned FITS file.\"\"\"\n",
    "    \n",
    "    output_filename = os.path.join(output_folder, 'rotated_'+os.path.basename(fits_file))\n",
    "    \n",
    "    with fits.open(fits_file) as hdul:\n",
    "        image_data = hdul[1].data\n",
    "        header = hdul[1].header\n",
    "        wcs = WCS(header)\n",
    "\n",
    "        # Get original reference pixel (before rotation)\n",
    "        crpix_original = np.array([header['CRPIX1'], header['CRPIX2']])\n",
    "        \n",
    "        print(\"CRPIX1:\", header['CRPIX1'], \"CRPIX2:\", header['CRPIX2'])\n",
    "        print(\"Image shape:\", image_data.shape)\n",
    "\n",
    "        print(crpix_original)\n",
    "        # Get world coordinates of the original reference pixel\n",
    "        crval_original = wcs.pixel_to_world(crpix_original[0], crpix_original[1])\n",
    "\n",
    "        # Extract rotation angle from PC matrix\n",
    "        if 'PC1_1' in header and 'PC2_2' in header:\n",
    "            pc11 = header['PC1_1'] \n",
    "            pc12 = header['PC1_2'] \n",
    "            pc21 = header['PC2_1'] \n",
    "            pc22 = header['PC2_2'] \n",
    "            pc_matrix = np.array([[pc11, pc12], \n",
    "                                    [pc21, pc22]])\n",
    "            angle = 180 - np.arccos(pc11) * 180 / np.pi\n",
    "            print(f\"Rotating by {angle:.2f} degrees...\")        \n",
    "        else:\n",
    "            print(\"No PC matrix found, assuming no rotation\")\n",
    "            angle = 0\n",
    "\n",
    "        # Update the WCS: Rotate PC matrix by -angle (counterclockwise to match sky)\n",
    "        theta = np.radians(-angle)  # Convert to radians (negative for counterclockwise)\n",
    "        cos_t, sin_t = np.cos(theta), np.sin(theta)\n",
    "\n",
    "        #pc11_new = pc11*cos_t - pc21*sin_t\n",
    "        #pc12_new = pc12*cos_t - pc22*sin_t\n",
    "        #pc21_new = pc11*sin_t + pc21*cos_t\n",
    "        #pc22_new = pc12*sin_t + pc22*cos_t\n",
    "\n",
    "        #header['PC1_1'], header['PC1_2'] = pc11_new, pc12_new\n",
    "        #header['PC2_1'], header['PC2_2'] = pc21_new, pc22_new\n",
    "        \n",
    "\n",
    "        # Apply rotation to PC matrix\n",
    "        rotation_matrix = np.array([[cos_t, -sin_t], [sin_t, cos_t]])\n",
    "        new_pc_matrix = np.dot(rotation_matrix, pc_matrix)\n",
    "        \n",
    "        header['PC1_1'], header['PC1_2'] = new_pc_matrix[0]\n",
    "        header['PC2_1'], header['PC2_2'] = new_pc_matrix[1]\n",
    "        \n",
    "        # Create new WCS with updated PC matrix\n",
    "        new_wcs = WCS(header)\n",
    "\n",
    "        # Convert original world coordinates back to pixel in the new WCS\n",
    "        new_crpix = new_wcs.world_to_pixel(crval_original)\n",
    "\n",
    "        # Update reference pixel to keep sky alignment fixed\n",
    "        header['CRPIX1'], header['CRPIX2'] = new_crpix\n",
    "\n",
    "        # Rotate image\n",
    "        rotated_image = rotate_image(image_data, angle)\n",
    "\n",
    "    # Ensure output directory exists\n",
    "    os.makedirs(output_folder, exist_ok=True)\n",
    "\n",
    "    # Create new FITS file with rotated image\n",
    "    hdu = fits.PrimaryHDU(rotated_image, header=header)\n",
    "    hdul_rotated = fits.HDUList([hdu])\n",
    "    hdul_rotated.writeto(output_filename, overwrite=True)\n",
    "    \n",
    "    print(f\"Rotated image saved as: {output_filename}\")\n",
    "\n",
    "    # Plot original and rotated images\n",
    "    fig, axs = plt.subplots(1, 2, figsize=(12, 6))\n",
    "    axs[0].imshow(image_data, cmap='gray', origin='lower')\n",
    "    axs[0].set_title('Original Image')\n",
    "    axs[1].imshow(rotated_image, cmap='gray', origin='lower')\n",
    "    axs[1].set_title('Rotated Image (North Up, East Left)')\n",
    "    plt.show()\n"
   ]
  },
  {
   "cell_type": "markdown",
   "metadata": {},
   "source": [
    "Read in the data files and define output directory"
   ]
  },
  {
   "cell_type": "code",
   "execution_count": 4,
   "metadata": {},
   "outputs": [
    {
     "name": "stdout",
     "output_type": "stream",
     "text": [
      "Found 4 FITS files.\n",
      "Found 164 FITS files.\n"
     ]
    }
   ],
   "source": [
    "\n",
    "# Load datasets\n",
    "primer = '/home/bpc/University/master/Red_Cardinal/MIRI/PRIMER/'\n",
    "primer_data = glob.glob(os.path.join(primer, \"*.fits\"))\n",
    "print(f\"Found {len(primer_data)} FITS files.\")\n",
    "\n",
    "cweb = \"/home/bpc/University/master/Red_Cardinal/MIRI/COSMOS-Web/\"\n",
    "cweb_data = glob.glob(os.path.join(cweb, \"*.fits\"))\n",
    "print(f\"Found {len(cweb_data)} FITS files.\")\n",
    "\n",
    "# Create output directory\n",
    "output_dir = \"./rotated/\"\n",
    "os.makedirs(output_dir, exist_ok=True)\n",
    "\n",
    "#cutout_name =  f\"./cutouts/7102_F770W_cutout_primer.fits\"\n",
    "cutout_name =  f\"./cutouts/10592_F770W_cutout_primer.fits\"\n",
    "patch = f\"./MIRI/PRIMER/jw01837-o003_t003_miri_f770w_i2d.fits\""
   ]
  },
  {
   "cell_type": "markdown",
   "metadata": {},
   "source": [
    "Now we call the rotation function"
   ]
  },
  {
   "cell_type": "code",
   "execution_count": 31,
   "metadata": {},
   "outputs": [
    {
     "name": "stdout",
     "output_type": "stream",
     "text": [
      "CRPIX1: 667.29944875089 CRPIX2: -122.58176297208\n",
      "Image shape: (48, 48)\n",
      "[ 667.29944875 -122.58176297]\n",
      "Rotating by 63.17 degrees...\n"
     ]
    },
    {
     "ename": "ValueError",
     "evalue": "Illegal value: array(667.64316606).",
     "output_type": "error",
     "traceback": [
      "\u001b[0;31m---------------------------------------------------------------------------\u001b[0m",
      "\u001b[0;31mValueError\u001b[0m                                Traceback (most recent call last)",
      "Cell \u001b[0;32mIn[31], line 1\u001b[0m\n\u001b[0;32m----> 1\u001b[0m \u001b[43mprocess_fits\u001b[49m\u001b[43m(\u001b[49m\u001b[43mcutout_name\u001b[49m\u001b[43m,\u001b[49m\u001b[43m \u001b[49m\u001b[43moutput_dir\u001b[49m\u001b[43m)\u001b[49m\n",
      "Cell \u001b[0;32mIn[30], line 66\u001b[0m, in \u001b[0;36mprocess_fits\u001b[0;34m(fits_file, output_folder)\u001b[0m\n\u001b[1;32m     63\u001b[0m new_crpix \u001b[38;5;241m=\u001b[39m new_wcs\u001b[38;5;241m.\u001b[39mworld_to_pixel(crval_original)\n\u001b[1;32m     65\u001b[0m \u001b[38;5;66;03m# Update reference pixel to keep sky alignment fixed\u001b[39;00m\n\u001b[0;32m---> 66\u001b[0m \u001b[43mheader\u001b[49m\u001b[43m[\u001b[49m\u001b[38;5;124;43m'\u001b[39;49m\u001b[38;5;124;43mCRPIX1\u001b[39;49m\u001b[38;5;124;43m'\u001b[39;49m\u001b[43m]\u001b[49m, header[\u001b[38;5;124m'\u001b[39m\u001b[38;5;124mCRPIX2\u001b[39m\u001b[38;5;124m'\u001b[39m] \u001b[38;5;241m=\u001b[39m new_crpix\n\u001b[1;32m     68\u001b[0m \u001b[38;5;66;03m# Rotate image\u001b[39;00m\n\u001b[1;32m     69\u001b[0m rotated_image \u001b[38;5;241m=\u001b[39m rotate_image(image_data, angle)\n",
      "File \u001b[0;32m~/myenv/lib/python3.12/site-packages/astropy/io/fits/header.py:222\u001b[0m, in \u001b[0;36mHeader.__setitem__\u001b[0;34m(self, key, value)\u001b[0m\n\u001b[1;32m    218\u001b[0m         \u001b[38;5;28mself\u001b[39m\u001b[38;5;241m.\u001b[39m_modified \u001b[38;5;241m=\u001b[39m \u001b[38;5;28;01mTrue\u001b[39;00m\n\u001b[1;32m    219\u001b[0m \u001b[38;5;28;01melse\u001b[39;00m:\n\u001b[1;32m    220\u001b[0m     \u001b[38;5;66;03m# If we get an IndexError that should be raised; we don't allow\u001b[39;00m\n\u001b[1;32m    221\u001b[0m     \u001b[38;5;66;03m# assignment to non-existing indices\u001b[39;00m\n\u001b[0;32m--> 222\u001b[0m     \u001b[38;5;28;43mself\u001b[39;49m\u001b[38;5;241;43m.\u001b[39;49m\u001b[43m_update\u001b[49m\u001b[43m(\u001b[49m\u001b[43m(\u001b[49m\u001b[43mkey\u001b[49m\u001b[43m,\u001b[49m\u001b[43m \u001b[49m\u001b[43mvalue\u001b[49m\u001b[43m,\u001b[49m\u001b[43m \u001b[49m\u001b[43mcomment\u001b[49m\u001b[43m)\u001b[49m\u001b[43m)\u001b[49m\n",
      "File \u001b[0;32m~/myenv/lib/python3.12/site-packages/astropy/io/fits/header.py:1658\u001b[0m, in \u001b[0;36mHeader._update\u001b[0;34m(self, card)\u001b[0m\n\u001b[1;32m   1656\u001b[0m idx \u001b[38;5;241m=\u001b[39m \u001b[38;5;28mself\u001b[39m\u001b[38;5;241m.\u001b[39m_keyword_indices[keyword][\u001b[38;5;241m0\u001b[39m]\n\u001b[1;32m   1657\u001b[0m existing_card \u001b[38;5;241m=\u001b[39m \u001b[38;5;28mself\u001b[39m\u001b[38;5;241m.\u001b[39m_cards[idx]\n\u001b[0;32m-> 1658\u001b[0m \u001b[43mexisting_card\u001b[49m\u001b[38;5;241;43m.\u001b[39;49m\u001b[43mvalue\u001b[49m \u001b[38;5;241m=\u001b[39m value\n\u001b[1;32m   1659\u001b[0m \u001b[38;5;28;01mif\u001b[39;00m comment \u001b[38;5;129;01mis\u001b[39;00m \u001b[38;5;129;01mnot\u001b[39;00m \u001b[38;5;28;01mNone\u001b[39;00m:\n\u001b[1;32m   1660\u001b[0m     \u001b[38;5;66;03m# '' should be used to explicitly blank a comment\u001b[39;00m\n\u001b[1;32m   1661\u001b[0m     existing_card\u001b[38;5;241m.\u001b[39mcomment \u001b[38;5;241m=\u001b[39m comment\n",
      "File \u001b[0;32m~/myenv/lib/python3.12/site-packages/astropy/io/fits/card.py:339\u001b[0m, in \u001b[0;36mCard.value\u001b[0;34m(self, value)\u001b[0m\n\u001b[1;32m    322\u001b[0m     oldvalue \u001b[38;5;241m=\u001b[39m UNDEFINED\n\u001b[1;32m    324\u001b[0m \u001b[38;5;28;01mif\u001b[39;00m \u001b[38;5;129;01mnot\u001b[39;00m \u001b[38;5;28misinstance\u001b[39m(\n\u001b[1;32m    325\u001b[0m     value,\n\u001b[1;32m    326\u001b[0m     (\n\u001b[0;32m   (...)\u001b[0m\n\u001b[1;32m    337\u001b[0m     ),\n\u001b[1;32m    338\u001b[0m ):\n\u001b[0;32m--> 339\u001b[0m     \u001b[38;5;28;01mraise\u001b[39;00m \u001b[38;5;167;01mValueError\u001b[39;00m(\u001b[38;5;124mf\u001b[39m\u001b[38;5;124m\"\u001b[39m\u001b[38;5;124mIllegal value: \u001b[39m\u001b[38;5;132;01m{\u001b[39;00mvalue\u001b[38;5;132;01m!r}\u001b[39;00m\u001b[38;5;124m.\u001b[39m\u001b[38;5;124m\"\u001b[39m)\n\u001b[1;32m    341\u001b[0m \u001b[38;5;28;01mif\u001b[39;00m \u001b[38;5;28misinstance\u001b[39m(value, (\u001b[38;5;28mfloat\u001b[39m, np\u001b[38;5;241m.\u001b[39mfloat32)) \u001b[38;5;129;01mand\u001b[39;00m (\n\u001b[1;32m    342\u001b[0m     np\u001b[38;5;241m.\u001b[39misnan(value) \u001b[38;5;129;01mor\u001b[39;00m np\u001b[38;5;241m.\u001b[39misinf(value)\n\u001b[1;32m    343\u001b[0m ):\n\u001b[1;32m    344\u001b[0m     \u001b[38;5;66;03m# value is checked for both float and np.float32 instances\u001b[39;00m\n\u001b[1;32m    345\u001b[0m     \u001b[38;5;66;03m# since np.float32 is not considered a Python float.\u001b[39;00m\n\u001b[1;32m    346\u001b[0m     \u001b[38;5;28;01mraise\u001b[39;00m \u001b[38;5;167;01mValueError\u001b[39;00m(\n\u001b[1;32m    347\u001b[0m         \u001b[38;5;124mf\u001b[39m\u001b[38;5;124m\"\u001b[39m\u001b[38;5;124mFloating point \u001b[39m\u001b[38;5;132;01m{\u001b[39;00mvalue\u001b[38;5;132;01m!r}\u001b[39;00m\u001b[38;5;124m values are not allowed in FITS headers.\u001b[39m\u001b[38;5;124m\"\u001b[39m\n\u001b[1;32m    348\u001b[0m     )\n",
      "\u001b[0;31mValueError\u001b[0m: Illegal value: array(667.64316606)."
     ]
    }
   ],
   "source": [
    "process_fits(cutout_name, output_dir)\n"
   ]
  },
  {
   "cell_type": "code",
   "execution_count": 16,
   "metadata": {},
   "outputs": [
    {
     "name": "stdout",
     "output_type": "stream",
     "text": [
      "First entry: -0.45139107874244\n",
      "-0.45139107874244\n",
      "-0.89232622623777\n",
      "-0.89232622623777\n",
      "0.45139107874244\n",
      "Angle:  63.167030798708026\n",
      "[[-0.45139108 -0.89232623]\n",
      " [-0.89232623  0.45139108]]\n"
     ]
    },
    {
     "name": "stderr",
     "output_type": "stream",
     "text": [
      "WARNING: FITSFixedWarning: 'obsfix' made the change 'Set OBSGEO-L to   100.077856 from OBSGEO-[XYZ].\n",
      "Set OBSGEO-B to     8.121531 from OBSGEO-[XYZ].\n",
      "Set OBSGEO-H to 1684160522.172 from OBSGEO-[XYZ]'. [astropy.wcs.wcs]\n"
     ]
    }
   ],
   "source": [
    "cutout_name =  f\"./cutouts/10592_F770W_cutout_primer.fits\"\n",
    "\n",
    "with fits.open(cutout_name) as hdul:\n",
    "    data = hdul[1].data\n",
    "    header = hdul[1].header\n",
    "    wcs = WCS(header)\n",
    "\n",
    "# Extract rotation angle from PC matrix\n",
    "if 'PC1_1' in header and 'PC2_2' in header:\n",
    "    pc_matrix = np.array([[header['PC1_1'], header['PC1_2']], \n",
    "                            [header['PC2_1'], header['PC2_2']]])\n",
    "    angle = np.arccos(-1*pc_matrix[0, 0]) * 180 / np.pi\n",
    "    print(\"First entry:\", pc_matrix[0,0])\n",
    "    print(header['PC1_1'])\n",
    "    print(header['PC1_2'])\n",
    "    print(header['PC2_1'])\n",
    "    print(header['PC2_2'])\n",
    "    print(\"Angle: \", angle)\n",
    "    print(pc_matrix)\n",
    "else:\n",
    "    print(\"No PC matrix found, assuming no rotation\")\n",
    "    angle = 0"
   ]
  }
 ],
 "metadata": {
  "kernelspec": {
   "display_name": "myenv",
   "language": "python",
   "name": "python3"
  },
  "language_info": {
   "codemirror_mode": {
    "name": "ipython",
    "version": 3
   },
   "file_extension": ".py",
   "mimetype": "text/x-python",
   "name": "python",
   "nbconvert_exporter": "python",
   "pygments_lexer": "ipython3",
   "version": "3.12.3"
  }
 },
 "nbformat": 4,
 "nbformat_minor": 2
}
